{
 "cells": [
  {
   "cell_type": "markdown",
   "metadata": {
    "colab_type": "text",
    "id": "ST74N5a2w5_1"
   },
   "source": [
    "## MLP on MNIST with Batch Normalization on 2, 3 and 5 hidden layer architecture with Dropout"
   ]
  },
  {
   "cell_type": "code",
   "execution_count": 0,
   "metadata": {
    "colab": {
     "autoexec": {
      "startup": false,
      "wait_interval": 0
     }
    },
    "colab_type": "code",
    "id": "rEQpAU9hw5_6"
   },
   "outputs": [],
   "source": [
    "\n",
    "from keras.utils import np_utils \n",
    "from keras.datasets import mnist \n",
    "import seaborn as sns\n",
    "from keras.initializers import RandomNormal"
   ]
  },
  {
   "cell_type": "code",
   "execution_count": 0,
   "metadata": {
    "colab": {
     "autoexec": {
      "startup": false,
      "wait_interval": 0
     }
    },
    "colab_type": "code",
    "id": "nrCNzC1lw6AG"
   },
   "outputs": [],
   "source": [
    "%matplotlib inline\n",
    "import matplotlib.pyplot as plt\n",
    "import numpy as np\n",
    "import time\n",
    "def plt_dynamic(x, vy, ty, ax, colors=['b']):\n",
    "    ax.plot(x, vy, 'b', label=\"Validation Loss\")\n",
    "    ax.plot(x, ty, 'r', label=\"Train Loss\")\n",
    "    plt.legend()\n",
    "    plt.grid()\n",
    "    fig.canvas.draw()"
   ]
  },
  {
   "cell_type": "code",
   "execution_count": 0,
   "metadata": {
    "colab": {
     "autoexec": {
      "startup": false,
      "wait_interval": 0
     }
    },
    "colab_type": "code",
    "id": "fMtM7ufcw6AP"
   },
   "outputs": [],
   "source": [
    "# the data, shuffled and split between train and test sets \n",
    "(X_train, y_train), (X_test, y_test) = mnist.load_data()"
   ]
  },
  {
   "cell_type": "code",
   "execution_count": 34,
   "metadata": {
    "colab": {
     "autoexec": {
      "startup": false,
      "wait_interval": 0
     },
     "base_uri": "https://localhost:8080/",
     "height": 52
    },
    "colab_type": "code",
    "executionInfo": {
     "elapsed": 1065,
     "status": "ok",
     "timestamp": 1530600090972,
     "user": {
      "displayName": "Dhruv Bhardwaj",
      "photoUrl": "https://lh3.googleusercontent.com/a/default-user=s128",
      "userId": "108346599235323909781"
     },
     "user_tz": -330
    },
    "id": "tBu8ZUIRw6AY",
    "outputId": "3453f13d-ee66-46d9-d526-d94d0c782f2f"
   },
   "outputs": [
    {
     "name": "stdout",
     "output_type": "stream",
     "text": [
      "Number of training examples : 60000 and each image is of shape (28, 28)\n",
      "Number of training examples : 10000 and each image is of shape (28, 28)\n"
     ]
    }
   ],
   "source": [
    "print(\"Number of training examples :\", X_train.shape[0], \"and each image is of shape (%d, %d)\"%(X_train.shape[1], X_train.shape[2]))\n",
    "print(\"Number of training examples :\", X_test.shape[0], \"and each image is of shape (%d, %d)\"%(X_test.shape[1], X_test.shape[2]))"
   ]
  },
  {
   "cell_type": "code",
   "execution_count": 0,
   "metadata": {
    "colab": {
     "autoexec": {
      "startup": false,
      "wait_interval": 0
     }
    },
    "colab_type": "code",
    "id": "RiWUe490w6Ai"
   },
   "outputs": [],
   "source": [
    "# if you observe the input shape its 3 dimensional vector\n",
    "# for each image we have a (28*28) vector\n",
    "# we will convert the (28*28) vector into single dimensional vector of 1 * 784 \n",
    "\n",
    "X_train = X_train.reshape(X_train.shape[0], X_train.shape[1]*X_train.shape[2]) \n",
    "X_test = X_test.reshape(X_test.shape[0], X_test.shape[1]*X_test.shape[2]) "
   ]
  },
  {
   "cell_type": "code",
   "execution_count": 36,
   "metadata": {
    "colab": {
     "autoexec": {
      "startup": false,
      "wait_interval": 0
     },
     "base_uri": "https://localhost:8080/",
     "height": 52
    },
    "colab_type": "code",
    "executionInfo": {
     "elapsed": 937,
     "status": "ok",
     "timestamp": 1530600098995,
     "user": {
      "displayName": "Dhruv Bhardwaj",
      "photoUrl": "https://lh3.googleusercontent.com/a/default-user=s128",
      "userId": "108346599235323909781"
     },
     "user_tz": -330
    },
    "id": "4GV-beqow6Ap",
    "outputId": "cde12f8a-c6f7-4ed2-c3ea-9406c207bb0d"
   },
   "outputs": [
    {
     "name": "stdout",
     "output_type": "stream",
     "text": [
      "Number of training examples : 60000 and each image is of shape (784)\n",
      "Number of training examples : 10000 and each image is of shape (784)\n"
     ]
    }
   ],
   "source": [
    "# after converting the input images from 3d to 2d vectors\n",
    "\n",
    "print(\"Number of training examples :\", X_train.shape[0], \"and each image is of shape (%d)\"%(X_train.shape[1]))\n",
    "print(\"Number of training examples :\", X_test.shape[0], \"and each image is of shape (%d)\"%(X_test.shape[1]))"
   ]
  },
  {
   "cell_type": "code",
   "execution_count": 37,
   "metadata": {
    "colab": {
     "autoexec": {
      "startup": false,
      "wait_interval": 0
     },
     "base_uri": "https://localhost:8080/",
     "height": 781
    },
    "colab_type": "code",
    "executionInfo": {
     "elapsed": 984,
     "status": "ok",
     "timestamp": 1530600101540,
     "user": {
      "displayName": "Dhruv Bhardwaj",
      "photoUrl": "https://lh3.googleusercontent.com/a/default-user=s128",
      "userId": "108346599235323909781"
     },
     "user_tz": -330
    },
    "id": "nFWNT6mew6Az",
    "outputId": "9482b447-b5e0-42db-d999-9b42f8a223c7"
   },
   "outputs": [
    {
     "name": "stdout",
     "output_type": "stream",
     "text": [
      "[  0   0   0   0   0   0   0   0   0   0   0   0   0   0   0   0   0   0\n",
      "   0   0   0   0   0   0   0   0   0   0   0   0   0   0   0   0   0   0\n",
      "   0   0   0   0   0   0   0   0   0   0   0   0   0   0   0   0   0   0\n",
      "   0   0   0   0   0   0   0   0   0   0   0   0   0   0   0   0   0   0\n",
      "   0   0   0   0   0   0   0   0   0   0   0   0   0   0   0   0   0   0\n",
      "   0   0   0   0   0   0   0   0   0   0   0   0   0   0   0   0   0   0\n",
      "   0   0   0   0   0   0   0   0   0   0   0   0   0   0   0   0   0   0\n",
      "   0   0   0   0   0   0   0   0   0   0   0   0   0   0   0   0   0   0\n",
      "   0   0   0   0   0   0   0   0   3  18  18  18 126 136 175  26 166 255\n",
      " 247 127   0   0   0   0   0   0   0   0   0   0   0   0  30  36  94 154\n",
      " 170 253 253 253 253 253 225 172 253 242 195  64   0   0   0   0   0   0\n",
      "   0   0   0   0   0  49 238 253 253 253 253 253 253 253 253 251  93  82\n",
      "  82  56  39   0   0   0   0   0   0   0   0   0   0   0   0  18 219 253\n",
      " 253 253 253 253 198 182 247 241   0   0   0   0   0   0   0   0   0   0\n",
      "   0   0   0   0   0   0   0   0  80 156 107 253 253 205  11   0  43 154\n",
      "   0   0   0   0   0   0   0   0   0   0   0   0   0   0   0   0   0   0\n",
      "   0  14   1 154 253  90   0   0   0   0   0   0   0   0   0   0   0   0\n",
      "   0   0   0   0   0   0   0   0   0   0   0   0   0 139 253 190   2   0\n",
      "   0   0   0   0   0   0   0   0   0   0   0   0   0   0   0   0   0   0\n",
      "   0   0   0   0   0  11 190 253  70   0   0   0   0   0   0   0   0   0\n",
      "   0   0   0   0   0   0   0   0   0   0   0   0   0   0   0   0  35 241\n",
      " 225 160 108   1   0   0   0   0   0   0   0   0   0   0   0   0   0   0\n",
      "   0   0   0   0   0   0   0   0   0  81 240 253 253 119  25   0   0   0\n",
      "   0   0   0   0   0   0   0   0   0   0   0   0   0   0   0   0   0   0\n",
      "   0   0  45 186 253 253 150  27   0   0   0   0   0   0   0   0   0   0\n",
      "   0   0   0   0   0   0   0   0   0   0   0   0   0  16  93 252 253 187\n",
      "   0   0   0   0   0   0   0   0   0   0   0   0   0   0   0   0   0   0\n",
      "   0   0   0   0   0   0   0 249 253 249  64   0   0   0   0   0   0   0\n",
      "   0   0   0   0   0   0   0   0   0   0   0   0   0   0  46 130 183 253\n",
      " 253 207   2   0   0   0   0   0   0   0   0   0   0   0   0   0   0   0\n",
      "   0   0   0   0  39 148 229 253 253 253 250 182   0   0   0   0   0   0\n",
      "   0   0   0   0   0   0   0   0   0   0   0   0  24 114 221 253 253 253\n",
      " 253 201  78   0   0   0   0   0   0   0   0   0   0   0   0   0   0   0\n",
      "   0   0  23  66 213 253 253 253 253 198  81   2   0   0   0   0   0   0\n",
      "   0   0   0   0   0   0   0   0   0   0  18 171 219 253 253 253 253 195\n",
      "  80   9   0   0   0   0   0   0   0   0   0   0   0   0   0   0   0   0\n",
      "  55 172 226 253 253 253 253 244 133  11   0   0   0   0   0   0   0   0\n",
      "   0   0   0   0   0   0   0   0   0   0 136 253 253 253 212 135 132  16\n",
      "   0   0   0   0   0   0   0   0   0   0   0   0   0   0   0   0   0   0\n",
      "   0   0   0   0   0   0   0   0   0   0   0   0   0   0   0   0   0   0\n",
      "   0   0   0   0   0   0   0   0   0   0   0   0   0   0   0   0   0   0\n",
      "   0   0   0   0   0   0   0   0   0   0   0   0   0   0   0   0   0   0\n",
      "   0   0   0   0   0   0   0   0   0   0   0   0   0   0   0   0   0   0\n",
      "   0   0   0   0   0   0   0   0   0   0]\n"
     ]
    }
   ],
   "source": [
    "# An example data point\n",
    "print(X_train[0])"
   ]
  },
  {
   "cell_type": "code",
   "execution_count": 0,
   "metadata": {
    "colab": {
     "autoexec": {
      "startup": false,
      "wait_interval": 0
     }
    },
    "colab_type": "code",
    "id": "5OGljBKPw6A6"
   },
   "outputs": [],
   "source": [
    "# if we observe the above matrix each cell is having a value between 0-255\n",
    "# before we move to apply machine learning algorithms lets try to normalize the data\n",
    "# X => (X - Xmin)/(Xmax-Xmin) = X/255\n",
    "\n",
    "X_train = X_train/255\n",
    "X_test = X_test/255"
   ]
  },
  {
   "cell_type": "code",
   "execution_count": 39,
   "metadata": {
    "colab": {
     "autoexec": {
      "startup": false,
      "wait_interval": 0
     },
     "base_uri": "https://localhost:8080/",
     "height": 2292
    },
    "colab_type": "code",
    "executionInfo": {
     "elapsed": 1036,
     "status": "ok",
     "timestamp": 1530600109979,
     "user": {
      "displayName": "Dhruv Bhardwaj",
      "photoUrl": "https://lh3.googleusercontent.com/a/default-user=s128",
      "userId": "108346599235323909781"
     },
     "user_tz": -330
    },
    "id": "0m51JUxVw6BR",
    "outputId": "21e826c1-69e4-4db1-e6fd-0c905ec2ebd9"
   },
   "outputs": [
    {
     "name": "stdout",
     "output_type": "stream",
     "text": [
      "[0.         0.         0.         0.         0.         0.\n",
      " 0.         0.         0.         0.         0.         0.\n",
      " 0.         0.         0.         0.         0.         0.\n",
      " 0.         0.         0.         0.         0.         0.\n",
      " 0.         0.         0.         0.         0.         0.\n",
      " 0.         0.         0.         0.         0.         0.\n",
      " 0.         0.         0.         0.         0.         0.\n",
      " 0.         0.         0.         0.         0.         0.\n",
      " 0.         0.         0.         0.         0.         0.\n",
      " 0.         0.         0.         0.         0.         0.\n",
      " 0.         0.         0.         0.         0.         0.\n",
      " 0.         0.         0.         0.         0.         0.\n",
      " 0.         0.         0.         0.         0.         0.\n",
      " 0.         0.         0.         0.         0.         0.\n",
      " 0.         0.         0.         0.         0.         0.\n",
      " 0.         0.         0.         0.         0.         0.\n",
      " 0.         0.         0.         0.         0.         0.\n",
      " 0.         0.         0.         0.         0.         0.\n",
      " 0.         0.         0.         0.         0.         0.\n",
      " 0.         0.         0.         0.         0.         0.\n",
      " 0.         0.         0.         0.         0.         0.\n",
      " 0.         0.         0.         0.         0.         0.\n",
      " 0.         0.         0.         0.         0.         0.\n",
      " 0.         0.         0.         0.         0.         0.\n",
      " 0.         0.         0.         0.         0.         0.\n",
      " 0.         0.         0.01176471 0.07058824 0.07058824 0.07058824\n",
      " 0.49411765 0.53333333 0.68627451 0.10196078 0.65098039 1.\n",
      " 0.96862745 0.49803922 0.         0.         0.         0.\n",
      " 0.         0.         0.         0.         0.         0.\n",
      " 0.         0.         0.11764706 0.14117647 0.36862745 0.60392157\n",
      " 0.66666667 0.99215686 0.99215686 0.99215686 0.99215686 0.99215686\n",
      " 0.88235294 0.6745098  0.99215686 0.94901961 0.76470588 0.25098039\n",
      " 0.         0.         0.         0.         0.         0.\n",
      " 0.         0.         0.         0.         0.         0.19215686\n",
      " 0.93333333 0.99215686 0.99215686 0.99215686 0.99215686 0.99215686\n",
      " 0.99215686 0.99215686 0.99215686 0.98431373 0.36470588 0.32156863\n",
      " 0.32156863 0.21960784 0.15294118 0.         0.         0.\n",
      " 0.         0.         0.         0.         0.         0.\n",
      " 0.         0.         0.         0.07058824 0.85882353 0.99215686\n",
      " 0.99215686 0.99215686 0.99215686 0.99215686 0.77647059 0.71372549\n",
      " 0.96862745 0.94509804 0.         0.         0.         0.\n",
      " 0.         0.         0.         0.         0.         0.\n",
      " 0.         0.         0.         0.         0.         0.\n",
      " 0.         0.         0.31372549 0.61176471 0.41960784 0.99215686\n",
      " 0.99215686 0.80392157 0.04313725 0.         0.16862745 0.60392157\n",
      " 0.         0.         0.         0.         0.         0.\n",
      " 0.         0.         0.         0.         0.         0.\n",
      " 0.         0.         0.         0.         0.         0.\n",
      " 0.         0.05490196 0.00392157 0.60392157 0.99215686 0.35294118\n",
      " 0.         0.         0.         0.         0.         0.\n",
      " 0.         0.         0.         0.         0.         0.\n",
      " 0.         0.         0.         0.         0.         0.\n",
      " 0.         0.         0.         0.         0.         0.\n",
      " 0.         0.54509804 0.99215686 0.74509804 0.00784314 0.\n",
      " 0.         0.         0.         0.         0.         0.\n",
      " 0.         0.         0.         0.         0.         0.\n",
      " 0.         0.         0.         0.         0.         0.\n",
      " 0.         0.         0.         0.         0.         0.04313725\n",
      " 0.74509804 0.99215686 0.2745098  0.         0.         0.\n",
      " 0.         0.         0.         0.         0.         0.\n",
      " 0.         0.         0.         0.         0.         0.\n",
      " 0.         0.         0.         0.         0.         0.\n",
      " 0.         0.         0.         0.         0.1372549  0.94509804\n",
      " 0.88235294 0.62745098 0.42352941 0.00392157 0.         0.\n",
      " 0.         0.         0.         0.         0.         0.\n",
      " 0.         0.         0.         0.         0.         0.\n",
      " 0.         0.         0.         0.         0.         0.\n",
      " 0.         0.         0.         0.31764706 0.94117647 0.99215686\n",
      " 0.99215686 0.46666667 0.09803922 0.         0.         0.\n",
      " 0.         0.         0.         0.         0.         0.\n",
      " 0.         0.         0.         0.         0.         0.\n",
      " 0.         0.         0.         0.         0.         0.\n",
      " 0.         0.         0.17647059 0.72941176 0.99215686 0.99215686\n",
      " 0.58823529 0.10588235 0.         0.         0.         0.\n",
      " 0.         0.         0.         0.         0.         0.\n",
      " 0.         0.         0.         0.         0.         0.\n",
      " 0.         0.         0.         0.         0.         0.\n",
      " 0.         0.0627451  0.36470588 0.98823529 0.99215686 0.73333333\n",
      " 0.         0.         0.         0.         0.         0.\n",
      " 0.         0.         0.         0.         0.         0.\n",
      " 0.         0.         0.         0.         0.         0.\n",
      " 0.         0.         0.         0.         0.         0.\n",
      " 0.         0.97647059 0.99215686 0.97647059 0.25098039 0.\n",
      " 0.         0.         0.         0.         0.         0.\n",
      " 0.         0.         0.         0.         0.         0.\n",
      " 0.         0.         0.         0.         0.         0.\n",
      " 0.         0.         0.18039216 0.50980392 0.71764706 0.99215686\n",
      " 0.99215686 0.81176471 0.00784314 0.         0.         0.\n",
      " 0.         0.         0.         0.         0.         0.\n",
      " 0.         0.         0.         0.         0.         0.\n",
      " 0.         0.         0.         0.         0.15294118 0.58039216\n",
      " 0.89803922 0.99215686 0.99215686 0.99215686 0.98039216 0.71372549\n",
      " 0.         0.         0.         0.         0.         0.\n",
      " 0.         0.         0.         0.         0.         0.\n",
      " 0.         0.         0.         0.         0.         0.\n",
      " 0.09411765 0.44705882 0.86666667 0.99215686 0.99215686 0.99215686\n",
      " 0.99215686 0.78823529 0.30588235 0.         0.         0.\n",
      " 0.         0.         0.         0.         0.         0.\n",
      " 0.         0.         0.         0.         0.         0.\n",
      " 0.         0.         0.09019608 0.25882353 0.83529412 0.99215686\n",
      " 0.99215686 0.99215686 0.99215686 0.77647059 0.31764706 0.00784314\n",
      " 0.         0.         0.         0.         0.         0.\n",
      " 0.         0.         0.         0.         0.         0.\n",
      " 0.         0.         0.         0.         0.07058824 0.67058824\n",
      " 0.85882353 0.99215686 0.99215686 0.99215686 0.99215686 0.76470588\n",
      " 0.31372549 0.03529412 0.         0.         0.         0.\n",
      " 0.         0.         0.         0.         0.         0.\n",
      " 0.         0.         0.         0.         0.         0.\n",
      " 0.21568627 0.6745098  0.88627451 0.99215686 0.99215686 0.99215686\n",
      " 0.99215686 0.95686275 0.52156863 0.04313725 0.         0.\n",
      " 0.         0.         0.         0.         0.         0.\n",
      " 0.         0.         0.         0.         0.         0.\n",
      " 0.         0.         0.         0.         0.53333333 0.99215686\n",
      " 0.99215686 0.99215686 0.83137255 0.52941176 0.51764706 0.0627451\n",
      " 0.         0.         0.         0.         0.         0.\n",
      " 0.         0.         0.         0.         0.         0.\n",
      " 0.         0.         0.         0.         0.         0.\n",
      " 0.         0.         0.         0.         0.         0.\n",
      " 0.         0.         0.         0.         0.         0.\n",
      " 0.         0.         0.         0.         0.         0.\n",
      " 0.         0.         0.         0.         0.         0.\n",
      " 0.         0.         0.         0.         0.         0.\n",
      " 0.         0.         0.         0.         0.         0.\n",
      " 0.         0.         0.         0.         0.         0.\n",
      " 0.         0.         0.         0.         0.         0.\n",
      " 0.         0.         0.         0.         0.         0.\n",
      " 0.         0.         0.         0.         0.         0.\n",
      " 0.         0.         0.         0.         0.         0.\n",
      " 0.         0.         0.         0.         0.         0.\n",
      " 0.         0.         0.         0.         0.         0.\n",
      " 0.         0.         0.         0.        ]\n"
     ]
    }
   ],
   "source": [
    "# example data point after normlizing\n",
    "print(X_train[0])"
   ]
  },
  {
   "cell_type": "code",
   "execution_count": 40,
   "metadata": {
    "colab": {
     "autoexec": {
      "startup": false,
      "wait_interval": 0
     },
     "base_uri": "https://localhost:8080/",
     "height": 52
    },
    "colab_type": "code",
    "executionInfo": {
     "elapsed": 970,
     "status": "ok",
     "timestamp": 1530600115075,
     "user": {
      "displayName": "Dhruv Bhardwaj",
      "photoUrl": "https://lh3.googleusercontent.com/a/default-user=s128",
      "userId": "108346599235323909781"
     },
     "user_tz": -330
    },
    "id": "fRR1-rZlw6Bh",
    "outputId": "7ffc415e-da2a-4144-e134-c001b78db7f3"
   },
   "outputs": [
    {
     "name": "stdout",
     "output_type": "stream",
     "text": [
      "Class label of first image : 5\n",
      "After converting the output into a vector :  [0. 0. 0. 0. 0. 1. 0. 0. 0. 0.]\n"
     ]
    }
   ],
   "source": [
    "# here we are having a class number for each image\n",
    "print(\"Class label of first image :\", y_train[0])\n",
    "\n",
    "# lets convert this into a 10 dimensional vector\n",
    "# ex: consider an image is 5 convert it into 5 => [0, 0, 0, 0, 0, 1, 0, 0, 0, 0]\n",
    "# this conversion needed for MLPs \n",
    "\n",
    "Y_train = np_utils.to_categorical(y_train, 10) \n",
    "Y_test = np_utils.to_categorical(y_test, 10)\n",
    "\n",
    "print(\"After converting the output into a vector : \",Y_train[0])"
   ]
  },
  {
   "cell_type": "code",
   "execution_count": 0,
   "metadata": {
    "colab": {
     "autoexec": {
      "startup": false,
      "wait_interval": 0
     }
    },
    "colab_type": "code",
    "id": "e05tdLGZw6Bs"
   },
   "outputs": [],
   "source": [
    "from keras.models import Sequential \n",
    "from keras.layers import Dense, Activation \n"
   ]
  },
  {
   "cell_type": "code",
   "execution_count": 0,
   "metadata": {
    "colab": {
     "autoexec": {
      "startup": false,
      "wait_interval": 0
     }
    },
    "colab_type": "code",
    "id": "beqvmatgw6Bz"
   },
   "outputs": [],
   "source": [
    "# model parameters\n",
    "\n",
    "output_dim = 10\n",
    "input_dim = X_train.shape[1]\n",
    "\n",
    "batch_size = 128 \n",
    "nb_epoch = 20"
   ]
  },
  {
   "cell_type": "markdown",
   "metadata": {
    "colab_type": "text",
    "id": "GUNRhQ2Dw6E1"
   },
   "source": [
    "<h2> MLP + AdamOptimizer </h2>"
   ]
  },
  {
   "cell_type": "code",
   "execution_count": 76,
   "metadata": {
    "colab": {
     "autoexec": {
      "startup": false,
      "wait_interval": 0
     },
     "base_uri": "https://localhost:8080/",
     "height": 243
    },
    "colab_type": "code",
    "executionInfo": {
     "elapsed": 1364,
     "status": "ok",
     "timestamp": 1530605162054,
     "user": {
      "displayName": "Dhruv Bhardwaj",
      "photoUrl": "https://lh3.googleusercontent.com/a/default-user=s128",
      "userId": "108346599235323909781"
     },
     "user_tz": -330
    },
    "id": "_NVUI7uqw6E2",
    "outputId": "df0d1275-30ba-426d-e644-c98c0dae683b"
   },
   "outputs": [
    {
     "name": "stdout",
     "output_type": "stream",
     "text": [
      "_________________________________________________________________\n",
      "Layer (type)                 Output Shape              Param #   \n",
      "=================================================================\n",
      "dense_57 (Dense)             (None, 364)               285740    \n",
      "_________________________________________________________________\n",
      "dense_58 (Dense)             (None, 96)                35040     \n",
      "_________________________________________________________________\n",
      "dense_59 (Dense)             (None, 10)                970       \n",
      "=================================================================\n",
      "Total params: 321,750\n",
      "Trainable params: 321,750\n",
      "Non-trainable params: 0\n",
      "_________________________________________________________________\n"
     ]
    }
   ],
   "source": [
    "\n",
    "model_batch = Sequential()\n",
    "\n",
    "model_batch.add(Dense(364, activation='relu', input_shape=(input_dim,), kernel_initializer=RandomNormal(mean=0.0, stddev=0.039, seed=None)))\n",
    "\n",
    "model_batch.add(Dense(96, activation='relu', kernel_initializer=RandomNormal(mean=0.0, stddev=0.55, seed=None)) )\n",
    "\n",
    "model_batch.add(Dense(output_dim, activation='softmax'))\n",
    "\n",
    "model_batch.summary()"
   ]
  },
  {
   "cell_type": "code",
   "execution_count": 77,
   "metadata": {
    "colab": {
     "autoexec": {
      "startup": false,
      "wait_interval": 0
     },
     "base_uri": "https://localhost:8080/",
     "height": 749
    },
    "colab_type": "code",
    "executionInfo": {
     "elapsed": 125222,
     "status": "ok",
     "timestamp": 1530605294957,
     "user": {
      "displayName": "Dhruv Bhardwaj",
      "photoUrl": "https://lh3.googleusercontent.com/a/default-user=s128",
      "userId": "108346599235323909781"
     },
     "user_tz": -330
    },
    "id": "R8Pvw184w6FC",
    "outputId": "8313c0d8-a3e1-4a93-e22c-e0b9a073a99f"
   },
   "outputs": [
    {
     "name": "stdout",
     "output_type": "stream",
     "text": [
      "Train on 60000 samples, validate on 10000 samples\n",
      "Epoch 1/20\n",
      "60000/60000 [==============================] - 8s 131us/step - loss: 0.2500 - acc: 0.9259 - val_loss: 0.1233 - val_acc: 0.9632\n",
      "Epoch 2/20\n",
      "60000/60000 [==============================] - 6s 102us/step - loss: 0.0996 - acc: 0.9693 - val_loss: 0.0974 - val_acc: 0.9710\n",
      "Epoch 3/20\n",
      "60000/60000 [==============================] - 6s 101us/step - loss: 0.0637 - acc: 0.9803 - val_loss: 0.0922 - val_acc: 0.9737\n",
      "Epoch 4/20\n",
      "12672/60000 [=====>........................] - ETA: 4s - loss: 0.0381 - acc: 0.989660000/60000 [==============================] - 6s 102us/step - loss: 0.0471 - acc: 0.9850 - val_loss: 0.0952 - val_acc: 0.9706\n",
      "Epoch 5/20\n",
      "60000/60000 [==============================] - 6s 102us/step - loss: 0.0369 - acc: 0.9881 - val_loss: 0.0807 - val_acc: 0.9759\n",
      "Epoch 6/20\n",
      "60000/60000 [==============================] - 6s 102us/step - loss: 0.0296 - acc: 0.9902 - val_loss: 0.0848 - val_acc: 0.9772\n",
      "Epoch 7/20\n",
      "37632/60000 [=================>............] - ETA: 2s - loss: 0.0254 - acc: 0.992160000/60000 [==============================] - 6s 101us/step - loss: 0.0241 - acc: 0.9922 - val_loss: 0.0951 - val_acc: 0.9761\n",
      "Epoch 8/20\n",
      "60000/60000 [==============================] - 6s 100us/step - loss: 0.0185 - acc: 0.9940 - val_loss: 0.0858 - val_acc: 0.9789\n",
      "Epoch 9/20\n",
      "60000/60000 [==============================] - 6s 103us/step - loss: 0.0214 - acc: 0.9926 - val_loss: 0.0935 - val_acc: 0.9775\n",
      "Epoch 10/20\n",
      "41472/60000 [===================>..........] - ETA: 1s - loss: 0.0185 - acc: 0.994160000/60000 [==============================] - 6s 102us/step - loss: 0.0185 - acc: 0.9939 - val_loss: 0.0923 - val_acc: 0.9774\n",
      "Epoch 11/20\n",
      "60000/60000 [==============================] - 6s 102us/step - loss: 0.0169 - acc: 0.9940 - val_loss: 0.1218 - val_acc: 0.9715\n",
      "Epoch 12/20\n",
      "60000/60000 [==============================] - 6s 101us/step - loss: 0.0169 - acc: 0.9944 - val_loss: 0.1107 - val_acc: 0.9753\n",
      "Epoch 13/20\n",
      "42496/60000 [====================>.........] - ETA: 1s - loss: 0.0110 - acc: 0.996760000/60000 [==============================] - 6s 101us/step - loss: 0.0125 - acc: 0.9961 - val_loss: 0.0968 - val_acc: 0.9794\n",
      "Epoch 14/20\n",
      "60000/60000 [==============================] - 6s 102us/step - loss: 0.0107 - acc: 0.9963 - val_loss: 0.1122 - val_acc: 0.9766\n",
      "Epoch 15/20\n",
      "60000/60000 [==============================] - 6s 102us/step - loss: 0.0104 - acc: 0.9966 - val_loss: 0.1127 - val_acc: 0.9752\n",
      "Epoch 16/20\n",
      "45056/60000 [=====================>........] - ETA: 1s - loss: 0.0115 - acc: 0.996260000/60000 [==============================] - 6s 101us/step - loss: 0.0130 - acc: 0.9959 - val_loss: 0.1137 - val_acc: 0.9774\n",
      "Epoch 17/20\n",
      "60000/60000 [==============================] - 6s 102us/step - loss: 0.0160 - acc: 0.9947 - val_loss: 0.1317 - val_acc: 0.9734\n",
      "Epoch 18/20\n",
      "60000/60000 [==============================] - 6s 103us/step - loss: 0.0125 - acc: 0.9957 - val_loss: 0.1451 - val_acc: 0.9742\n",
      "Epoch 19/20\n",
      "44160/60000 [=====================>........] - ETA: 1s - loss: 0.0087 - acc: 0.996860000/60000 [==============================] - 6s 101us/step - loss: 0.0108 - acc: 0.9963 - val_loss: 0.1221 - val_acc: 0.9770\n",
      "Epoch 20/20\n",
      "60000/60000 [==============================] - 6s 101us/step - loss: 0.0109 - acc: 0.9965 - val_loss: 0.1172 - val_acc: 0.9791\n"
     ]
    }
   ],
   "source": [
    "model_batch.compile(optimizer='adam', loss='categorical_crossentropy', metrics=['accuracy'])\n",
    "\n",
    "history = model_batch.fit(X_train, Y_train, batch_size=batch_size, epochs=nb_epoch, verbose=1, validation_data=(X_test, Y_test))"
   ]
  },
  {
   "cell_type": "code",
   "execution_count": 78,
   "metadata": {
    "colab": {
     "autoexec": {
      "startup": false,
      "wait_interval": 0
     },
     "base_uri": "https://localhost:8080/",
     "height": 314
    },
    "colab_type": "code",
    "executionInfo": {
     "elapsed": 2541,
     "status": "ok",
     "timestamp": 1530605297630,
     "user": {
      "displayName": "Dhruv Bhardwaj",
      "photoUrl": "https://lh3.googleusercontent.com/a/default-user=s128",
      "userId": "108346599235323909781"
     },
     "user_tz": -330
    },
    "id": "uZiJqjOZw6FK",
    "outputId": "65082971-c43b-4370-cf4c-297db67ab0ad"
   },
   "outputs": [
    {
     "name": "stdout",
     "output_type": "stream",
     "text": [
      "Test score: 0.11716977973502794\n",
      "Test accuracy: 0.9791\n"
     ]
    },
    {
     "data": {
      "image/png": "[encoded data removed]",
      "text/plain": [
       "<matplotlib.figure.Figure at 0x7f62788dd390>"
      ]
     },
     "metadata": {
      "tags": []
     },
     "output_type": "display_data"
    }
   ],
   "source": [
    "score = model_batch.evaluate(X_test, Y_test, verbose=0) \n",
    "print('Test score:', score[0]) \n",
    "print('Test accuracy:', score[1])\n",
    "\n",
    "fig,ax = plt.subplots(1,1)\n",
    "ax.set_xlabel('epoch') ; ax.set_ylabel('Categorical Crossentropy Loss')\n",
    "\n",
    "# list of epoch numbers\n",
    "x = list(range(1,nb_epoch+1))\n",
    "\n",
    "# print(history.history.keys())\n",
    "# dict_keys(['val_loss', 'val_acc', 'loss', 'acc'])\n",
    "# history = model_drop.fit(X_train, Y_train, batch_size=batch_size, epochs=nb_epoch, verbose=1, validation_data=(X_test, Y_test))\n",
    "\n",
    "# we will get val_loss and val_acc only when you pass the paramter validation_data\n",
    "# val_loss : validation loss\n",
    "# val_acc : validation accuracy\n",
    "\n",
    "# loss : training loss\n",
    "# acc : train accuracy\n",
    "# for each key in histrory.histrory we will have a list of length equal to number of epochs\n",
    "\n",
    "vy = history.history['val_loss']\n",
    "ty = history.history['loss']\n",
    "plt_dynamic(x, vy, ty, ax)"
   ]
  },
  {
   "cell_type": "code",
   "execution_count": 79,
   "metadata": {
    "colab": {
     "autoexec": {
      "startup": false,
      "wait_interval": 0
     },
     "base_uri": "https://localhost:8080/",
     "height": 278
    },
    "colab_type": "code",
    "executionInfo": {
     "elapsed": 1230,
     "status": "ok",
     "timestamp": 1530605421401,
     "user": {
      "displayName": "Dhruv Bhardwaj",
      "photoUrl": "https://lh3.googleusercontent.com/a/default-user=s128",
      "userId": "108346599235323909781"
     },
     "user_tz": -330
    },
    "id": "1LaadR1MLeuf",
    "outputId": "574be5ef-8348-4fc9-ed10-0f834af8824c"
   },
   "outputs": [
    {
     "name": "stdout",
     "output_type": "stream",
     "text": [
      "_________________________________________________________________\n",
      "Layer (type)                 Output Shape              Param #   \n",
      "=================================================================\n",
      "dense_60 (Dense)             (None, 364)               285740    \n",
      "_________________________________________________________________\n",
      "dense_61 (Dense)             (None, 96)                35040     \n",
      "_________________________________________________________________\n",
      "dense_62 (Dense)             (None, 36)                3492      \n",
      "_________________________________________________________________\n",
      "dense_63 (Dense)             (None, 10)                370       \n",
      "=================================================================\n",
      "Total params: 324,642\n",
      "Trainable params: 324,642\n",
      "Non-trainable params: 0\n",
      "_________________________________________________________________\n"
     ]
    }
   ],
   "source": [
    "\n",
    "model_batch = Sequential()\n",
    "\n",
    "model_batch.add(Dense(364, activation='relu', input_shape=(input_dim,), kernel_initializer=RandomNormal(mean=0.0, stddev=0.039, seed=None)))\n",
    "\n",
    "model_batch.add(Dense(96, activation='relu', kernel_initializer=RandomNormal(mean=0.0, stddev=0.55, seed=None)) )\n",
    "\n",
    "model_batch.add(Dense(36, activation='relu', kernel_initializer=RandomNormal(mean=0.0, stddev=0.55, seed=None)) )\n",
    "\n",
    "model_batch.add(Dense(output_dim, activation='softmax'))\n",
    "\n",
    "\n",
    "model_batch.summary()"
   ]
  },
  {
   "cell_type": "code",
   "execution_count": 80,
   "metadata": {
    "colab": {
     "autoexec": {
      "startup": false,
      "wait_interval": 0
     },
     "base_uri": "https://localhost:8080/",
     "height": 749
    },
    "colab_type": "code",
    "executionInfo": {
     "elapsed": 128739,
     "status": "ok",
     "timestamp": 1530605571518,
     "user": {
      "displayName": "Dhruv Bhardwaj",
      "photoUrl": "https://lh3.googleusercontent.com/a/default-user=s128",
      "userId": "108346599235323909781"
     },
     "user_tz": -330
    },
    "id": "313VjeQ9LfKm",
    "outputId": "f755dddc-da13-41a9-9d84-8b6598a3e8c4"
   },
   "outputs": [
    {
     "name": "stdout",
     "output_type": "stream",
     "text": [
      "Train on 60000 samples, validate on 10000 samples\n",
      "Epoch 1/20\n",
      "60000/60000 [==============================] - 8s 134us/step - loss: 0.4463 - acc: 0.8964 - val_loss: 0.2298 - val_acc: 0.9323\n",
      "Epoch 2/20\n",
      "60000/60000 [==============================] - 6s 104us/step - loss: 0.1410 - acc: 0.9591 - val_loss: 0.1435 - val_acc: 0.9578\n",
      "Epoch 3/20\n",
      "60000/60000 [==============================] - 6s 104us/step - loss: 0.0976 - acc: 0.9706 - val_loss: 0.1238 - val_acc: 0.9644\n",
      "Epoch 4/20\n",
      " 6400/60000 [==>...........................] - ETA: 5s - loss: 0.0608 - acc: 0.979560000/60000 [==============================] - 6s 104us/step - loss: 0.0681 - acc: 0.9791 - val_loss: 0.1182 - val_acc: 0.9684\n",
      "Epoch 5/20\n",
      "60000/60000 [==============================] - 6s 104us/step - loss: 0.0574 - acc: 0.9819 - val_loss: 0.1194 - val_acc: 0.9699\n",
      "Epoch 6/20\n",
      "60000/60000 [==============================] - 6s 105us/step - loss: 0.0541 - acc: 0.9828 - val_loss: 0.1108 - val_acc: 0.9711\n",
      "Epoch 7/20\n",
      "28288/60000 [=============>................] - ETA: 3s - loss: 0.0373 - acc: 0.988160000/60000 [==============================] - 6s 106us/step - loss: 0.0412 - acc: 0.9868 - val_loss: 0.1326 - val_acc: 0.9683\n",
      "Epoch 8/20\n",
      "60000/60000 [==============================] - 6s 105us/step - loss: 0.0354 - acc: 0.9884 - val_loss: 0.1124 - val_acc: 0.9726\n",
      "Epoch 9/20\n",
      "60000/60000 [==============================] - 6s 104us/step - loss: 0.0314 - acc: 0.9897 - val_loss: 0.1103 - val_acc: 0.9728\n",
      "Epoch 10/20\n",
      "34048/60000 [================>.............] - ETA: 2s - loss: 0.0287 - acc: 0.990860000/60000 [==============================] - 6s 104us/step - loss: 0.0347 - acc: 0.9892 - val_loss: 0.1222 - val_acc: 0.9690\n",
      "Epoch 11/20\n",
      "60000/60000 [==============================] - 6s 104us/step - loss: 0.0301 - acc: 0.9903 - val_loss: 0.0999 - val_acc: 0.9755\n",
      "Epoch 12/20\n",
      "60000/60000 [==============================] - 6s 105us/step - loss: 0.0264 - acc: 0.9912 - val_loss: 0.1263 - val_acc: 0.9719\n",
      "Epoch 13/20\n",
      "35200/60000 [================>.............] - ETA: 2s - loss: 0.0238 - acc: 0.992560000/60000 [==============================] - 6s 104us/step - loss: 0.0268 - acc: 0.9915 - val_loss: 0.1548 - val_acc: 0.9665\n",
      "Epoch 14/20\n",
      "60000/60000 [==============================] - 6s 104us/step - loss: 0.0226 - acc: 0.9927 - val_loss: 0.1155 - val_acc: 0.9749\n",
      "Epoch 15/20\n",
      "60000/60000 [==============================] - 6s 105us/step - loss: 0.0193 - acc: 0.9938 - val_loss: 0.1352 - val_acc: 0.9736\n",
      "Epoch 16/20\n",
      "35328/60000 [================>.............] - ETA: 2s - loss: 0.0164 - acc: 0.994760000/60000 [==============================] - 6s 105us/step - loss: 0.0198 - acc: 0.9936 - val_loss: 0.1513 - val_acc: 0.9691\n",
      "Epoch 17/20\n",
      "60000/60000 [==============================] - 6s 105us/step - loss: 0.0157 - acc: 0.9949 - val_loss: 0.1161 - val_acc: 0.9762\n",
      "Epoch 18/20\n",
      "60000/60000 [==============================] - 6s 105us/step - loss: 0.0172 - acc: 0.9947 - val_loss: 0.1250 - val_acc: 0.9758\n",
      "Epoch 19/20\n",
      "33280/60000 [===============>..............] - ETA: 2s - loss: 0.0135 - acc: 0.995760000/60000 [==============================] - 6s 104us/step - loss: 0.0164 - acc: 0.9949 - val_loss: 0.1621 - val_acc: 0.9712\n",
      "Epoch 20/20\n",
      "60000/60000 [==============================] - 6s 103us/step - loss: 0.0204 - acc: 0.9939 - val_loss: 0.1411 - val_acc: 0.9767\n"
     ]
    }
   ],
   "source": [
    "model_batch.compile(optimizer='adam', loss='categorical_crossentropy', metrics=['accuracy'])\n",
    "\n",
    "history = model_batch.fit(X_train, Y_train, batch_size=batch_size, epochs=nb_epoch, verbose=1, validation_data=(X_test, Y_test))"
   ]
  },
  {
   "cell_type": "code",
   "execution_count": 81,
   "metadata": {
    "colab": {
     "autoexec": {
      "startup": false,
      "wait_interval": 0
     },
     "base_uri": "https://localhost:8080/",
     "height": 314
    },
    "colab_type": "code",
    "executionInfo": {
     "elapsed": 1975,
     "status": "ok",
     "timestamp": 1530605573528,
     "user": {
      "displayName": "Dhruv Bhardwaj",
      "photoUrl": "https://lh3.googleusercontent.com/a/default-user=s128",
      "userId": "108346599235323909781"
     },
     "user_tz": -330
    },
    "id": "FgbmoTljLfos",
    "outputId": "13ec08b3-d114-42d8-d4cd-677e665d2080"
   },
   "outputs": [
    {
     "name": "stdout",
     "output_type": "stream",
     "text": [
      "Test score: 0.14107527235259587\n",
      "Test accuracy: 0.9767\n"
     ]
    },
    {
     "data": {
      "image/png": "[encoded data removed]",
      "text/plain": [
       "<matplotlib.figure.Figure at 0x7f6278ef1f60>"
      ]
     },
     "metadata": {
      "tags": []
     },
     "output_type": "display_data"
    }
   ],
   "source": [
    "score = model_batch.evaluate(X_test, Y_test, verbose=0) \n",
    "print('Test score:', score[0]) \n",
    "print('Test accuracy:', score[1])\n",
    "\n",
    "fig,ax = plt.subplots(1,1)\n",
    "ax.set_xlabel('epoch') ; ax.set_ylabel('Categorical Crossentropy Loss')\n",
    "\n",
    "# list of epoch numbers\n",
    "x = list(range(1,nb_epoch+1))\n",
    "\n",
    "# print(history.history.keys())\n",
    "# dict_keys(['val_loss', 'val_acc', 'loss', 'acc'])\n",
    "# history = model_drop.fit(X_train, Y_train, batch_size=batch_size, epochs=nb_epoch, verbose=1, validation_data=(X_test, Y_test))\n",
    "\n",
    "# we will get val_loss and val_acc only when you pass the paramter validation_data\n",
    "# val_loss : validation loss\n",
    "# val_acc : validation accuracy\n",
    "\n",
    "# loss : training loss\n",
    "# acc : train accuracy\n",
    "# for each key in histrory.histrory we will have a list of length equal to number of epochs\n",
    "\n",
    "vy = history.history['val_loss']\n",
    "ty = history.history['loss']\n",
    "plt_dynamic(x, vy, ty, ax)"
   ]
  },
  {
   "cell_type": "code",
   "execution_count": 103,
   "metadata": {
    "colab": {
     "autoexec": {
      "startup": false,
      "wait_interval": 0
     },
     "base_uri": "https://localhost:8080/",
     "height": 347
    },
    "colab_type": "code",
    "executionInfo": {
     "elapsed": 967,
     "status": "ok",
     "timestamp": 1530608333718,
     "user": {
      "displayName": "Dhruv Bhardwaj",
      "photoUrl": "https://lh3.googleusercontent.com/a/default-user=s128",
      "userId": "108346599235323909781"
     },
     "user_tz": -330
    },
    "id": "58Qa55jLLf9p",
    "outputId": "56b525d3-13af-4f01-d855-fbad4e640cd7"
   },
   "outputs": [
    {
     "name": "stdout",
     "output_type": "stream",
     "text": [
      "_________________________________________________________________\n",
      "Layer (type)                 Output Shape              Param #   \n",
      "=================================================================\n",
      "dense_70 (Dense)             (None, 512)               401920    \n",
      "_________________________________________________________________\n",
      "dense_71 (Dense)             (None, 326)               167238    \n",
      "_________________________________________________________________\n",
      "dense_72 (Dense)             (None, 196)               64092     \n",
      "_________________________________________________________________\n",
      "dense_73 (Dense)             (None, 96)                18912     \n",
      "_________________________________________________________________\n",
      "dense_74 (Dense)             (None, 36)                3492      \n",
      "_________________________________________________________________\n",
      "dense_75 (Dense)             (None, 10)                370       \n",
      "=================================================================\n",
      "Total params: 656,024\n",
      "Trainable params: 656,024\n",
      "Non-trainable params: 0\n",
      "_________________________________________________________________\n"
     ]
    }
   ],
   "source": [
    "\n",
    "model_batch1 = Sequential()\n",
    "\n",
    "model_batch1.add(Dense(512, activation='relu', input_shape=(input_dim,), kernel_initializer=RandomNormal(mean=0.0, stddev=0.039, seed=None)))\n",
    "\n",
    "model_batch1.add(Dense(326, activation='relu', kernel_initializer=RandomNormal(mean=0.0, stddev=0.55, seed=None)) )\n",
    "\n",
    "model_batch1.add(Dense(196, activation='relu', kernel_initializer=RandomNormal(mean=0.0, stddev=0.55, seed=None)) )\n",
    "\n",
    "model_batch1.add(Dense(96, activation='relu', kernel_initializer=RandomNormal(mean=0.0, stddev=0.55, seed=None)) )\n",
    "\n",
    "model_batch1.add(Dense(36, activation='relu', kernel_initializer=RandomNormal(mean=0.0, stddev=0.55, seed=None)) )\n",
    "\n",
    "model_batch1.add(Dense(output_dim, activation='softmax'))\n",
    "\n",
    "model_batch1.summary()"
   ]
  },
  {
   "cell_type": "code",
   "execution_count": 104,
   "metadata": {
    "colab": {
     "autoexec": {
      "startup": false,
      "wait_interval": 0
     },
     "base_uri": "https://localhost:8080/",
     "height": 749
    },
    "colab_type": "code",
    "executionInfo": {
     "elapsed": 214094,
     "status": "ok",
     "timestamp": 1530608558773,
     "user": {
      "displayName": "Dhruv Bhardwaj",
      "photoUrl": "https://lh3.googleusercontent.com/a/default-user=s128",
      "userId": "108346599235323909781"
     },
     "user_tz": -330
    },
    "id": "f_-P1FckLgRz",
    "outputId": "95860411-96d7-4408-88d3-b1a2fbabefcf"
   },
   "outputs": [
    {
     "name": "stdout",
     "output_type": "stream",
     "text": [
      "Train on 60000 samples, validate on 10000 samples\n",
      "Epoch 1/20\n",
      "60000/60000 [==============================] - 13s 212us/step - loss: 13.4104 - acc: 0.1678 - val_loss: 13.2926 - val_acc: 0.1753\n",
      "Epoch 2/20\n",
      "60000/60000 [==============================] - 10s 174us/step - loss: 13.9311 - acc: 0.1357 - val_loss: 13.2878 - val_acc: 0.1756\n",
      "Epoch 3/20\n",
      "27392/60000 [============>.................] - ETA: 5s - loss: 13.1801 - acc: 0.182360000/60000 [==============================] - 10s 174us/step - loss: 13.3852 - acc: 0.1695 - val_loss: 13.5070 - val_acc: 0.1620\n",
      "Epoch 4/20\n",
      "60000/60000 [==============================] - 10s 174us/step - loss: 13.8658 - acc: 0.1397 - val_loss: 13.5553 - val_acc: 0.1590\n",
      "Epoch 5/20\n",
      "58880/60000 [============================>.] - ETA: 0s - loss: 13.5304 - acc: 0.160560000/60000 [==============================] - 10s 174us/step - loss: 13.5306 - acc: 0.1605 - val_loss: 13.5537 - val_acc: 0.1591\n",
      "Epoch 6/20\n",
      "60000/60000 [==============================] - 11s 176us/step - loss: 13.5260 - acc: 0.1608 - val_loss: 13.4860 - val_acc: 0.1633\n",
      "Epoch 7/20\n",
      "60000/60000 [==============================] - 11s 177us/step - loss: 13.2230 - acc: 0.1796 - val_loss: 13.2857 - val_acc: 0.1757\n",
      "Epoch 8/20\n",
      " 2048/60000 [>.............................] - ETA: 9s - loss: 13.2848 - acc: 0.175860000/60000 [==============================] - 11s 176us/step - loss: 13.2128 - acc: 0.1802 - val_loss: 13.2857 - val_acc: 0.1757\n",
      "Epoch 9/20\n",
      "60000/60000 [==============================] - 11s 176us/step - loss: 13.2128 - acc: 0.1802 - val_loss: 13.2857 - val_acc: 0.1757\n",
      "Epoch 10/20\n",
      "51200/60000 [========================>.....] - ETA: 1s - loss: 13.1907 - acc: 0.181660000/60000 [==============================] - 11s 176us/step - loss: 13.2128 - acc: 0.1802 - val_loss: 13.2857 - val_acc: 0.1757\n",
      "Epoch 11/20\n",
      "60000/60000 [==============================] - 10s 174us/step - loss: 13.2128 - acc: 0.1803 - val_loss: 13.2857 - val_acc: 0.1757\n",
      "Epoch 12/20\n",
      "60000/60000 [==============================] - 10s 174us/step - loss: 13.2128 - acc: 0.1802 - val_loss: 13.2857 - val_acc: 0.1757\n",
      "Epoch 13/20\n",
      " 1664/60000 [..............................] - ETA: 10s - loss: 13.5318 - acc: 0.160560000/60000 [==============================] - 11s 176us/step - loss: 13.2128 - acc: 0.1802 - val_loss: 13.2857 - val_acc: 0.1757\n",
      "Epoch 14/20\n",
      "60000/60000 [==============================] - 11s 176us/step - loss: 13.2128 - acc: 0.1803 - val_loss: 13.2857 - val_acc: 0.1757\n",
      "Epoch 15/20\n",
      "50944/60000 [========================>.....] - ETA: 1s - loss: 13.2155 - acc: 0.180160000/60000 [==============================] - 11s 177us/step - loss: 13.2128 - acc: 0.1803 - val_loss: 13.2857 - val_acc: 0.1757\n",
      "Epoch 16/20\n",
      "60000/60000 [==============================] - 11s 176us/step - loss: 13.2128 - acc: 0.1802 - val_loss: 13.2857 - val_acc: 0.1757\n",
      "Epoch 17/20\n",
      "60000/60000 [==============================] - 11s 176us/step - loss: 13.2128 - acc: 0.1803 - val_loss: 13.2857 - val_acc: 0.1757\n",
      "Epoch 18/20\n",
      " 1664/60000 [..............................] - ETA: 10s - loss: 13.0960 - acc: 0.187560000/60000 [==============================] - 11s 177us/step - loss: 13.2128 - acc: 0.1802 - val_loss: 13.2857 - val_acc: 0.1757\n",
      "Epoch 19/20\n",
      "60000/60000 [==============================] - 10s 175us/step - loss: 13.2128 - acc: 0.1802 - val_loss: 13.2857 - val_acc: 0.1757\n",
      "Epoch 20/20\n",
      "51328/60000 [========================>.....] - ETA: 1s - loss: 13.2212 - acc: 0.179760000/60000 [==============================] - 11s 176us/step - loss: 13.2128 - acc: 0.1802 - val_loss: 13.2857 - val_acc: 0.1757\n"
     ]
    }
   ],
   "source": [
    "model_batch1.compile(optimizer='adam', loss='categorical_crossentropy', metrics=['accuracy'])\n",
    "\n",
    "history = model_batch1.fit(X_train, Y_train, batch_size=batch_size, epochs=nb_epoch, verbose=1, validation_data=(X_test, Y_test))"
   ]
  },
  {
   "cell_type": "code",
   "execution_count": 105,
   "metadata": {
    "colab": {
     "autoexec": {
      "startup": false,
      "wait_interval": 0
     },
     "base_uri": "https://localhost:8080/",
     "height": 314
    },
    "colab_type": "code",
    "executionInfo": {
     "elapsed": 2536,
     "status": "ok",
     "timestamp": 1530608567464,
     "user": {
      "displayName": "Dhruv Bhardwaj",
      "photoUrl": "https://lh3.googleusercontent.com/a/default-user=s128",
      "userId": "108346599235323909781"
     },
     "user_tz": -330
    },
    "id": "pqUWRZvNLglV",
    "outputId": "93be2b8d-7389-40b6-c0b3-e252540a6fbf"
   },
   "outputs": [
    {
     "name": "stdout",
     "output_type": "stream",
     "text": [
      "Test score: 13.285699151611329\n",
      "Test accuracy: 0.1757\n"
     ]
    },
    {
     "data": {
      "image/png": "[encoded data removed]",
      "text/plain": [
       "<matplotlib.figure.Figure at 0x7f62774ea630>"
      ]
     },
     "metadata": {
      "tags": []
     },
     "output_type": "display_data"
    }
   ],
   "source": [
    "score = model_batch1.evaluate(X_test, Y_test, verbose=0) \n",
    "print('Test score:', score[0]) \n",
    "print('Test accuracy:', score[1])\n",
    "\n",
    "fig,ax = plt.subplots(1,1)\n",
    "ax.set_xlabel('epoch') ; ax.set_ylabel('Categorical Crossentropy Loss')\n",
    "\n",
    "# list of epoch numbers\n",
    "x = list(range(1,nb_epoch+1))\n",
    "\n",
    "# print(history.history.keys())\n",
    "# dict_keys(['val_loss', 'val_acc', 'loss', 'acc'])\n",
    "# history = model_drop.fit(X_train, Y_train, batch_size=batch_size, epochs=nb_epoch, verbose=1, validation_data=(X_test, Y_test))\n",
    "\n",
    "# we will get val_loss and val_acc only when you pass the paramter validation_data\n",
    "# val_loss : validation loss\n",
    "# val_acc : validation accuracy\n",
    "\n",
    "# loss : training loss\n",
    "# acc : train accuracy\n",
    "# for each key in histrory.histrory we will have a list of length equal to number of epochs\n",
    "\n",
    "vy = history.history['val_loss']\n",
    "ty = history.history['loss']\n",
    "plt_dynamic(x, vy, ty, ax)"
   ]
  },
  {
   "cell_type": "markdown",
   "metadata": {
    "colab_type": "text",
    "id": "XeVJYeCyGHjz"
   },
   "source": [
    "<h2> MLP + Adam + ReLU  + Batch Normalization</h2>"
   ]
  },
  {
   "cell_type": "code",
   "execution_count": 73,
   "metadata": {
    "colab": {
     "autoexec": {
      "startup": false,
      "wait_interval": 0
     },
     "base_uri": "https://localhost:8080/",
     "height": 312
    },
    "colab_type": "code",
    "executionInfo": {
     "elapsed": 1426,
     "status": "ok",
     "timestamp": 1530604943294,
     "user": {
      "displayName": "Dhruv Bhardwaj",
      "photoUrl": "https://lh3.googleusercontent.com/a/default-user=s128",
      "userId": "108346599235323909781"
     },
     "user_tz": -330
    },
    "id": "55hUOxk-FWaP",
    "outputId": "8673a107-6a5d-4947-bf01-1c3275af480a"
   },
   "outputs": [
    {
     "name": "stdout",
     "output_type": "stream",
     "text": [
      "_________________________________________________________________\n",
      "Layer (type)                 Output Shape              Param #   \n",
      "=================================================================\n",
      "dense_54 (Dense)             (None, 364)               285740    \n",
      "_________________________________________________________________\n",
      "batch_normalization_28 (Batc (None, 364)               1456      \n",
      "_________________________________________________________________\n",
      "dense_55 (Dense)             (None, 96)                35040     \n",
      "_________________________________________________________________\n",
      "batch_normalization_29 (Batc (None, 96)                384       \n",
      "_________________________________________________________________\n",
      "dense_56 (Dense)             (None, 10)                970       \n",
      "=================================================================\n",
      "Total params: 323,590\n",
      "Trainable params: 322,670\n",
      "Non-trainable params: 920\n",
      "_________________________________________________________________\n"
     ]
    }
   ],
   "source": [
    "from keras.layers.normalization import BatchNormalization\n",
    "\n",
    "model_drop = Sequential()\n",
    "\n",
    "model_drop.add(Dense(364, activation='relu', input_shape=(input_dim,), kernel_initializer=RandomNormal(mean=0.0, stddev=0.039, seed=None)))\n",
    "model_drop.add(BatchNormalization())\n",
    "\n",
    "\n",
    "model_drop.add(Dense(96, activation='relu', kernel_initializer=RandomNormal(mean=0.0, stddev=0.55, seed=None)) )\n",
    "model_drop.add(BatchNormalization())\n",
    "\n",
    "\n",
    "model_drop.add(Dense(output_dim, activation='softmax'))\n",
    "\n",
    "\n",
    "model_drop.summary()"
   ]
  },
  {
   "cell_type": "code",
   "execution_count": 74,
   "metadata": {
    "colab": {
     "autoexec": {
      "startup": false,
      "wait_interval": 0
     },
     "base_uri": "https://localhost:8080/",
     "height": 749
    },
    "colab_type": "code",
    "executionInfo": {
     "elapsed": 159996,
     "status": "ok",
     "timestamp": 1530605108772,
     "user": {
      "displayName": "Dhruv Bhardwaj",
      "photoUrl": "https://lh3.googleusercontent.com/a/default-user=s128",
      "userId": "108346599235323909781"
     },
     "user_tz": -330
    },
    "id": "4iHQupxsFW5O",
    "outputId": "2d9e3829-a831-4c8a-a05c-b655fab6652d"
   },
   "outputs": [
    {
     "name": "stdout",
     "output_type": "stream",
     "text": [
      "Train on 60000 samples, validate on 10000 samples\n",
      "Epoch 1/20\n",
      "60000/60000 [==============================] - 10s 170us/step - loss: 0.2110 - acc: 0.9388 - val_loss: 0.1052 - val_acc: 0.9674\n",
      "Epoch 2/20\n",
      "60000/60000 [==============================] - 8s 131us/step - loss: 0.0831 - acc: 0.9755 - val_loss: 0.0845 - val_acc: 0.9725\n",
      "Epoch 3/20\n",
      "54272/60000 [==========================>...] - ETA: 0s - loss: 0.0517 - acc: 0.984960000/60000 [==============================] - 8s 130us/step - loss: 0.0524 - acc: 0.9847 - val_loss: 0.0950 - val_acc: 0.9698\n",
      "Epoch 4/20\n",
      "60000/60000 [==============================] - 8s 132us/step - loss: 0.0384 - acc: 0.9884 - val_loss: 0.0882 - val_acc: 0.9716\n",
      "Epoch 5/20\n",
      "60000/60000 [==============================] - 8s 131us/step - loss: 0.0299 - acc: 0.9909 - val_loss: 0.0802 - val_acc: 0.9760\n",
      "Epoch 6/20\n",
      "25472/60000 [===========>..................] - ETA: 4s - loss: 0.0190 - acc: 0.994860000/60000 [==============================] - 8s 130us/step - loss: 0.0224 - acc: 0.9931 - val_loss: 0.1070 - val_acc: 0.9691\n",
      "Epoch 7/20\n",
      "60000/60000 [==============================] - 8s 129us/step - loss: 0.0200 - acc: 0.9938 - val_loss: 0.0708 - val_acc: 0.9798\n",
      "Epoch 8/20\n",
      "60000/60000 [==============================] - 8s 129us/step - loss: 0.0167 - acc: 0.9950 - val_loss: 0.0917 - val_acc: 0.9731\n",
      "Epoch 9/20\n",
      "22016/60000 [==========>...................] - ETA: 4s - loss: 0.0147 - acc: 0.995460000/60000 [==============================] - 8s 130us/step - loss: 0.0153 - acc: 0.9951 - val_loss: 0.0902 - val_acc: 0.9745\n",
      "Epoch 10/20\n",
      "60000/60000 [==============================] - 8s 131us/step - loss: 0.0137 - acc: 0.9958 - val_loss: 0.0730 - val_acc: 0.9779\n",
      "Epoch 11/20\n",
      "60000/60000 [==============================] - 8s 132us/step - loss: 0.0125 - acc: 0.9961 - val_loss: 0.0868 - val_acc: 0.9761\n",
      "Epoch 12/20\n",
      "19456/60000 [========>.....................] - ETA: 5s - loss: 0.0106 - acc: 0.997060000/60000 [==============================] - 8s 131us/step - loss: 0.0121 - acc: 0.9961 - val_loss: 0.0791 - val_acc: 0.9780\n",
      "Epoch 13/20\n",
      "60000/60000 [==============================] - 8s 131us/step - loss: 0.0112 - acc: 0.9962 - val_loss: 0.0798 - val_acc: 0.9789\n",
      "Epoch 14/20\n",
      "60000/60000 [==============================] - 8s 132us/step - loss: 0.0084 - acc: 0.9971 - val_loss: 0.0847 - val_acc: 0.9781\n",
      "Epoch 15/20\n",
      "19840/60000 [========>.....................] - ETA: 5s - loss: 0.0093 - acc: 0.996960000/60000 [==============================] - 8s 131us/step - loss: 0.0093 - acc: 0.9970 - val_loss: 0.0881 - val_acc: 0.9764\n",
      "Epoch 16/20\n",
      "60000/60000 [==============================] - 8s 128us/step - loss: 0.0079 - acc: 0.9976 - val_loss: 0.0794 - val_acc: 0.9796\n",
      "Epoch 17/20\n",
      "60000/60000 [==============================] - 8s 127us/step - loss: 0.0078 - acc: 0.9977 - val_loss: 0.0836 - val_acc: 0.9797\n",
      "Epoch 18/20\n",
      "20608/60000 [=========>....................] - ETA: 4s - loss: 0.0050 - acc: 0.998360000/60000 [==============================] - 8s 128us/step - loss: 0.0068 - acc: 0.9977 - val_loss: 0.0907 - val_acc: 0.9775\n",
      "Epoch 19/20\n",
      "60000/60000 [==============================] - 8s 129us/step - loss: 0.0064 - acc: 0.9980 - val_loss: 0.0857 - val_acc: 0.9794\n",
      "Epoch 20/20\n",
      "60000/60000 [==============================] - 8s 129us/step - loss: 0.0061 - acc: 0.9982 - val_loss: 0.0895 - val_acc: 0.9785\n"
     ]
    }
   ],
   "source": [
    "model_drop.compile(optimizer='adam', loss='categorical_crossentropy', metrics=['accuracy'])\n",
    "\n",
    "history = model_drop.fit(X_train, Y_train, batch_size=batch_size, epochs=nb_epoch, verbose=1, validation_data=(X_test, Y_test))"
   ]
  },
  {
   "cell_type": "code",
   "execution_count": 75,
   "metadata": {
    "colab": {
     "autoexec": {
      "startup": false,
      "wait_interval": 0
     },
     "base_uri": "https://localhost:8080/",
     "height": 314
    },
    "colab_type": "code",
    "executionInfo": {
     "elapsed": 3176,
     "status": "ok",
     "timestamp": 1530605112063,
     "user": {
      "displayName": "Dhruv Bhardwaj",
      "photoUrl": "https://lh3.googleusercontent.com/a/default-user=s128",
      "userId": "108346599235323909781"
     },
     "user_tz": -330
    },
    "id": "kcL1aHhwFXNr",
    "outputId": "434a167c-a148-432d-f8ce-e23a955cf011"
   },
   "outputs": [
    {
     "name": "stdout",
     "output_type": "stream",
     "text": [
      "Test score: 0.08950398277270179\n",
      "Test accuracy: 0.9785\n"
     ]
    },
    {
     "data": {
      "image/png": "[encoded data removed]",
      "text/plain": [
       "<matplotlib.figure.Figure at 0x7f6279d4c7f0>"
      ]
     },
     "metadata": {
      "tags": []
     },
     "output_type": "display_data"
    }
   ],
   "source": [
    "score = model_drop.evaluate(X_test, Y_test, verbose=0) \n",
    "print('Test score:', score[0]) \n",
    "print('Test accuracy:', score[1])\n",
    "\n",
    "fig,ax = plt.subplots(1,1)\n",
    "ax.set_xlabel('epoch') ; ax.set_ylabel('Categorical Crossentropy Loss')\n",
    "\n",
    "# list of epoch numbers\n",
    "x = list(range(1,nb_epoch+1))\n",
    "\n",
    "# print(history.history.keys())\n",
    "# dict_keys(['val_loss', 'val_acc', 'loss', 'acc'])\n",
    "# history = model_drop.fit(X_train, Y_train, batch_size=batch_size, epochs=nb_epoch, verbose=1, validation_data=(X_test, Y_test))\n",
    "\n",
    "# we will get val_loss and val_acc only when you pass the paramter validation_data\n",
    "# val_loss : validation loss\n",
    "# val_acc : validation accuracy\n",
    "\n",
    "# loss : training loss\n",
    "# acc : train accuracy\n",
    "# for each key in histrory.histrory we will have a list of length equal to number of epochs\n",
    "\n",
    "vy = history.history['val_loss']\n",
    "ty = history.history['loss']\n",
    "plt_dynamic(x, vy, ty, ax)"
   ]
  },
  {
   "cell_type": "code",
   "execution_count": 58,
   "metadata": {
    "colab": {
     "autoexec": {
      "startup": false,
      "wait_interval": 0
     },
     "base_uri": "https://localhost:8080/",
     "height": 382
    },
    "colab_type": "code",
    "executionInfo": {
     "elapsed": 1375,
     "status": "ok",
     "timestamp": 1530603099064,
     "user": {
      "displayName": "Dhruv Bhardwaj",
      "photoUrl": "https://lh3.googleusercontent.com/a/default-user=s128",
      "userId": "108346599235323909781"
     },
     "user_tz": -330
    },
    "id": "R7JBaJr-w6Fc",
    "outputId": "8ce44bfc-9b12-4805-a050-72eb8e98c291"
   },
   "outputs": [
    {
     "name": "stdout",
     "output_type": "stream",
     "text": [
      "_________________________________________________________________\n",
      "Layer (type)                 Output Shape              Param #   \n",
      "=================================================================\n",
      "dense_35 (Dense)             (None, 364)               285740    \n",
      "_________________________________________________________________\n",
      "batch_normalization_16 (Batc (None, 364)               1456      \n",
      "_________________________________________________________________\n",
      "dense_36 (Dense)             (None, 96)                35040     \n",
      "_________________________________________________________________\n",
      "batch_normalization_17 (Batc (None, 96)                384       \n",
      "_________________________________________________________________\n",
      "dense_37 (Dense)             (None, 36)                3492      \n",
      "_________________________________________________________________\n",
      "batch_normalization_18 (Batc (None, 36)                144       \n",
      "_________________________________________________________________\n",
      "dense_38 (Dense)             (None, 10)                370       \n",
      "=================================================================\n",
      "Total params: 326,626\n",
      "Trainable params: 325,634\n",
      "Non-trainable params: 992\n",
      "_________________________________________________________________\n"
     ]
    }
   ],
   "source": [
    "\n",
    "from keras.layers.normalization import BatchNormalization\n",
    "\n",
    "model_drop = Sequential()\n",
    "\n",
    "model_drop.add(Dense(364, activation='relu', input_shape=(input_dim,), kernel_initializer=RandomNormal(mean=0.0, stddev=0.039, seed=None)))\n",
    "model_drop.add(BatchNormalization())\n",
    "\n",
    "\n",
    "model_drop.add(Dense(96, activation='relu', kernel_initializer=RandomNormal(mean=0.0, stddev=0.55, seed=None)) )\n",
    "model_drop.add(BatchNormalization())\n",
    "\n",
    "\n",
    "model_drop.add(Dense(36, activation='relu', kernel_initializer=RandomNormal(mean=0.0, stddev=0.55, seed=None)) )\n",
    "model_drop.add(BatchNormalization())\n",
    "\n",
    "model_drop.add(Dense(output_dim, activation='softmax'))\n",
    "\n",
    "\n",
    "model_drop.summary()"
   ]
  },
  {
   "cell_type": "code",
   "execution_count": 59,
   "metadata": {
    "colab": {
     "autoexec": {
      "startup": false,
      "wait_interval": 0
     },
     "base_uri": "https://localhost:8080/",
     "height": 749
    },
    "colab_type": "code",
    "executionInfo": {
     "elapsed": 162501,
     "status": "ok",
     "timestamp": 1530603287479,
     "user": {
      "displayName": "Dhruv Bhardwaj",
      "photoUrl": "https://lh3.googleusercontent.com/a/default-user=s128",
      "userId": "108346599235323909781"
     },
     "user_tz": -330
    },
    "id": "ZF4nLNWPw6Fi",
    "outputId": "c3711c17-171f-4869-ea2d-62e9decbf59b"
   },
   "outputs": [
    {
     "name": "stdout",
     "output_type": "stream",
     "text": [
      "Train on 60000 samples, validate on 10000 samples\n",
      "Epoch 1/20\n",
      "60000/60000 [==============================] - 10s 159us/step - loss: 0.2628 - acc: 0.9297 - val_loss: 0.1260 - val_acc: 0.9618\n",
      "Epoch 2/20\n",
      "60000/60000 [==============================] - 8s 132us/step - loss: 0.0918 - acc: 0.9735 - val_loss: 0.0982 - val_acc: 0.9696\n",
      "Epoch 3/20\n",
      "52608/60000 [=========================>....] - ETA: 0s - loss: 0.0616 - acc: 0.981260000/60000 [==============================] - 8s 132us/step - loss: 0.0614 - acc: 0.9812 - val_loss: 0.0923 - val_acc: 0.9728\n",
      "Epoch 4/20\n",
      "60000/60000 [==============================] - 8s 132us/step - loss: 0.0468 - acc: 0.9858 - val_loss: 0.0899 - val_acc: 0.9736\n",
      "Epoch 5/20\n",
      "60000/60000 [==============================] - 8s 131us/step - loss: 0.0338 - acc: 0.9893 - val_loss: 0.0806 - val_acc: 0.9768\n",
      "Epoch 6/20\n",
      "25216/60000 [===========>..................] - ETA: 4s - loss: 0.0249 - acc: 0.992460000/60000 [==============================] - 8s 131us/step - loss: 0.0279 - acc: 0.9913 - val_loss: 0.0966 - val_acc: 0.9730\n",
      "Epoch 7/20\n",
      "60000/60000 [==============================] - 8s 133us/step - loss: 0.0236 - acc: 0.9929 - val_loss: 0.0918 - val_acc: 0.9738\n",
      "Epoch 8/20\n",
      "60000/60000 [==============================] - 8s 131us/step - loss: 0.0218 - acc: 0.9923 - val_loss: 0.0861 - val_acc: 0.9749\n",
      "Epoch 9/20\n",
      "19712/60000 [========>.....................] - ETA: 5s - loss: 0.0159 - acc: 0.995360000/60000 [==============================] - 8s 133us/step - loss: 0.0169 - acc: 0.9946 - val_loss: 0.0886 - val_acc: 0.9750\n",
      "Epoch 10/20\n",
      "60000/60000 [==============================] - 8s 134us/step - loss: 0.0177 - acc: 0.9943 - val_loss: 0.0842 - val_acc: 0.9764\n",
      "Epoch 11/20\n",
      "60000/60000 [==============================] - 8s 133us/step - loss: 0.0142 - acc: 0.9952 - val_loss: 0.1052 - val_acc: 0.9731\n",
      "Epoch 12/20\n",
      "17152/60000 [=======>......................] - ETA: 5s - loss: 0.0133 - acc: 0.995960000/60000 [==============================] - 8s 133us/step - loss: 0.0135 - acc: 0.9958 - val_loss: 0.0931 - val_acc: 0.9758\n",
      "Epoch 13/20\n",
      "60000/60000 [==============================] - 8s 132us/step - loss: 0.0126 - acc: 0.9960 - val_loss: 0.0943 - val_acc: 0.9761\n",
      "Epoch 14/20\n",
      "60000/60000 [==============================] - 8s 133us/step - loss: 0.0120 - acc: 0.9962 - val_loss: 0.0977 - val_acc: 0.9754\n",
      "Epoch 15/20\n",
      "17152/60000 [=======>......................] - ETA: 5s - loss: 0.0108 - acc: 0.996660000/60000 [==============================] - 8s 132us/step - loss: 0.0111 - acc: 0.9965 - val_loss: 0.0981 - val_acc: 0.9762\n",
      "Epoch 16/20\n",
      "60000/60000 [==============================] - 8s 132us/step - loss: 0.0088 - acc: 0.9972 - val_loss: 0.0915 - val_acc: 0.9764\n",
      "Epoch 17/20\n",
      "60000/60000 [==============================] - 8s 132us/step - loss: 0.0110 - acc: 0.9962 - val_loss: 0.0957 - val_acc: 0.9763\n",
      "Epoch 18/20\n",
      "18688/60000 [========>.....................] - ETA: 5s - loss: 0.0071 - acc: 0.997860000/60000 [==============================] - 8s 131us/step - loss: 0.0079 - acc: 0.9975 - val_loss: 0.0942 - val_acc: 0.9759\n",
      "Epoch 19/20\n",
      "60000/60000 [==============================] - 8s 133us/step - loss: 0.0088 - acc: 0.9971 - val_loss: 0.0916 - val_acc: 0.9784\n",
      "Epoch 20/20\n",
      "60000/60000 [==============================] - 8s 132us/step - loss: 0.0084 - acc: 0.9971 - val_loss: 0.0902 - val_acc: 0.9795\n"
     ]
    }
   ],
   "source": [
    "model_drop.compile(optimizer='adam', loss='categorical_crossentropy', metrics=['accuracy'])\n",
    "\n",
    "history = model_drop.fit(X_train, Y_train, batch_size=batch_size, epochs=nb_epoch, verbose=1, validation_data=(X_test, Y_test))"
   ]
  },
  {
   "cell_type": "code",
   "execution_count": 60,
   "metadata": {
    "colab": {
     "autoexec": {
      "startup": false,
      "wait_interval": 0
     },
     "base_uri": "https://localhost:8080/",
     "height": 314
    },
    "colab_type": "code",
    "executionInfo": {
     "elapsed": 2162,
     "status": "ok",
     "timestamp": 1530603289740,
     "user": {
      "displayName": "Dhruv Bhardwaj",
      "photoUrl": "https://lh3.googleusercontent.com/a/default-user=s128",
      "userId": "108346599235323909781"
     },
     "user_tz": -330
    },
    "id": "McicOFjYw6Fq",
    "outputId": "26b257e2-d799-46b1-b68e-54d17ef01f17"
   },
   "outputs": [
    {
     "name": "stdout",
     "output_type": "stream",
     "text": [
      "Test score: 0.09016670634818438\n",
      "Test accuracy: 0.9795\n"
     ]
    },
    {
     "data": {
      "image/png": "[encoded data removed]",
      "text/plain": [
       "<matplotlib.figure.Figure at 0x7f627cd18f98>"
      ]
     },
     "metadata": {
      "tags": []
     },
     "output_type": "display_data"
    }
   ],
   "source": [
    "score = model_drop.evaluate(X_test, Y_test, verbose=0) \n",
    "print('Test score:', score[0]) \n",
    "print('Test accuracy:', score[1])\n",
    "\n",
    "fig,ax = plt.subplots(1,1)\n",
    "ax.set_xlabel('epoch') ; ax.set_ylabel('Categorical Crossentropy Loss')\n",
    "\n",
    "# list of epoch numbers\n",
    "x = list(range(1,nb_epoch+1))\n",
    "\n",
    "# print(history.history.keys())\n",
    "# dict_keys(['val_loss', 'val_acc', 'loss', 'acc'])\n",
    "# history = model_drop.fit(X_train, Y_train, batch_size=batch_size, epochs=nb_epoch, verbose=1, validation_data=(X_test, Y_test))\n",
    "\n",
    "# we will get val_loss and val_acc only when you pass the paramter validation_data\n",
    "# val_loss : validation loss\n",
    "# val_acc : validation accuracy\n",
    "\n",
    "# loss : training loss\n",
    "# acc : train accuracy\n",
    "# for each key in histrory.histrory we will have a list of length equal to number of epochs\n",
    "\n",
    "vy = history.history['val_loss']\n",
    "ty = history.history['loss']\n",
    "plt_dynamic(x, vy, ty, ax)"
   ]
  },
  {
   "cell_type": "code",
   "execution_count": 67,
   "metadata": {
    "colab": {
     "autoexec": {
      "startup": false,
      "wait_interval": 0
     },
     "base_uri": "https://localhost:8080/",
     "height": 521
    },
    "colab_type": "code",
    "executionInfo": {
     "elapsed": 1685,
     "status": "ok",
     "timestamp": 1530603914159,
     "user": {
      "displayName": "Dhruv Bhardwaj",
      "photoUrl": "https://lh3.googleusercontent.com/a/default-user=s128",
      "userId": "108346599235323909781"
     },
     "user_tz": -330
    },
    "id": "v2SgezVHDpGy",
    "outputId": "81c689f1-1ddf-4497-b28d-40a2f3234a5f"
   },
   "outputs": [
    {
     "name": "stdout",
     "output_type": "stream",
     "text": [
      "_________________________________________________________________\n",
      "Layer (type)                 Output Shape              Param #   \n",
      "=================================================================\n",
      "dense_45 (Dense)             (None, 512)               401920    \n",
      "_________________________________________________________________\n",
      "batch_normalization_23 (Batc (None, 512)               2048      \n",
      "_________________________________________________________________\n",
      "dense_46 (Dense)             (None, 326)               167238    \n",
      "_________________________________________________________________\n",
      "batch_normalization_24 (Batc (None, 326)               1304      \n",
      "_________________________________________________________________\n",
      "dense_47 (Dense)             (None, 196)               64092     \n",
      "_________________________________________________________________\n",
      "batch_normalization_25 (Batc (None, 196)               784       \n",
      "_________________________________________________________________\n",
      "dense_48 (Dense)             (None, 96)                18912     \n",
      "_________________________________________________________________\n",
      "batch_normalization_26 (Batc (None, 96)                384       \n",
      "_________________________________________________________________\n",
      "dense_49 (Dense)             (None, 36)                3492      \n",
      "_________________________________________________________________\n",
      "batch_normalization_27 (Batc (None, 36)                144       \n",
      "_________________________________________________________________\n",
      "dense_50 (Dense)             (None, 10)                370       \n",
      "=================================================================\n",
      "Total params: 660,688\n",
      "Trainable params: 658,356\n",
      "Non-trainable params: 2,332\n",
      "_________________________________________________________________\n"
     ]
    }
   ],
   "source": [
    "\n",
    "from keras.layers.normalization import BatchNormalization\n",
    "\n",
    "model_drop1 = Sequential()\n",
    "\n",
    "model_drop1.add(Dense(512, activation='relu', input_shape=(input_dim,), kernel_initializer=RandomNormal(mean=0.0, stddev=0.039, seed=None)))\n",
    "model_drop1.add(BatchNormalization())\n",
    "\n",
    "\n",
    "model_drop1.add(Dense(326, activation='relu', kernel_initializer=RandomNormal(mean=0.0, stddev=0.55, seed=None)) )\n",
    "model_drop1.add(BatchNormalization())\n",
    "\n",
    "\n",
    "model_drop1.add(Dense(196, activation='relu', kernel_initializer=RandomNormal(mean=0.0, stddev=0.55, seed=None)) )\n",
    "model_drop1.add(BatchNormalization())\n",
    "\n",
    "\n",
    "model_drop1.add(Dense(96, activation='relu', kernel_initializer=RandomNormal(mean=0.0, stddev=0.55, seed=None)) )\n",
    "model_drop1.add(BatchNormalization())\n",
    "\n",
    "\n",
    "model_drop1.add(Dense(36, activation='relu', kernel_initializer=RandomNormal(mean=0.0, stddev=0.55, seed=None)) )\n",
    "model_drop1.add(BatchNormalization())\n",
    "\n",
    "model_drop1.add(Dense(output_dim, activation='softmax'))\n",
    "\n",
    "\n",
    "model_drop1.summary()"
   ]
  },
  {
   "cell_type": "code",
   "execution_count": 68,
   "metadata": {
    "colab": {
     "autoexec": {
      "startup": false,
      "wait_interval": 0
     },
     "base_uri": "https://localhost:8080/",
     "height": 749
    },
    "colab_type": "code",
    "executionInfo": {
     "elapsed": 296540,
     "status": "ok",
     "timestamp": 1530604234679,
     "user": {
      "displayName": "Dhruv Bhardwaj",
      "photoUrl": "https://lh3.googleusercontent.com/a/default-user=s128",
      "userId": "108346599235323909781"
     },
     "user_tz": -330
    },
    "id": "BV-3nLUwEU-A",
    "outputId": "8d7253a3-a45e-4ad8-f942-8b22e574cedc"
   },
   "outputs": [
    {
     "name": "stdout",
     "output_type": "stream",
     "text": [
      "Train on 60000 samples, validate on 10000 samples\n",
      "Epoch 1/20\n",
      "60000/60000 [==============================] - 17s 290us/step - loss: 0.2795 - acc: 0.9236 - val_loss: 0.1291 - val_acc: 0.9604\n",
      "Epoch 2/20\n",
      "59264/60000 [============================>.] - ETA: 0s - loss: 0.0941 - acc: 0.973160000/60000 [==============================] - 15s 243us/step - loss: 0.0940 - acc: 0.9730 - val_loss: 0.1049 - val_acc: 0.9675\n",
      "Epoch 3/20\n",
      "60000/60000 [==============================] - 15s 242us/step - loss: 0.0620 - acc: 0.9804 - val_loss: 0.0976 - val_acc: 0.9718\n",
      "Epoch 4/20\n",
      "33152/60000 [===============>..............] - ETA: 6s - loss: 0.0456 - acc: 0.985360000/60000 [==============================] - 15s 243us/step - loss: 0.0458 - acc: 0.9849 - val_loss: 0.0942 - val_acc: 0.9703\n",
      "Epoch 5/20\n",
      "60000/60000 [==============================] - 15s 244us/step - loss: 0.0360 - acc: 0.9888 - val_loss: 0.0825 - val_acc: 0.9738\n",
      "Epoch 6/20\n",
      "27264/60000 [============>.................] - ETA: 7s - loss: 0.0258 - acc: 0.991960000/60000 [==============================] - 14s 241us/step - loss: 0.0290 - acc: 0.9905 - val_loss: 0.0863 - val_acc: 0.9741\n",
      "Epoch 7/20\n",
      "60000/60000 [==============================] - 15s 243us/step - loss: 0.0258 - acc: 0.9916 - val_loss: 0.0807 - val_acc: 0.9778\n",
      "Epoch 8/20\n",
      "25984/60000 [===========>..................] - ETA: 7s - loss: 0.0208 - acc: 0.993760000/60000 [==============================] - 15s 244us/step - loss: 0.0231 - acc: 0.9927 - val_loss: 0.0847 - val_acc: 0.9765\n",
      "Epoch 9/20\n",
      "60000/60000 [==============================] - 15s 242us/step - loss: 0.0240 - acc: 0.9923 - val_loss: 0.0795 - val_acc: 0.9784\n",
      "Epoch 10/20\n",
      "25472/60000 [===========>..................] - ETA: 7s - loss: 0.0184 - acc: 0.993860000/60000 [==============================] - 15s 243us/step - loss: 0.0191 - acc: 0.9935 - val_loss: 0.0800 - val_acc: 0.9762\n",
      "Epoch 11/20\n",
      "60000/60000 [==============================] - 15s 244us/step - loss: 0.0169 - acc: 0.9945 - val_loss: 0.0810 - val_acc: 0.9768\n",
      "Epoch 12/20\n",
      "25216/60000 [===========>..................] - ETA: 8s - loss: 0.0141 - acc: 0.995260000/60000 [==============================] - 15s 244us/step - loss: 0.0161 - acc: 0.9946 - val_loss: 0.0792 - val_acc: 0.9773\n",
      "Epoch 13/20\n",
      "60000/60000 [==============================] - 15s 243us/step - loss: 0.0155 - acc: 0.9947 - val_loss: 0.0756 - val_acc: 0.9806\n",
      "Epoch 14/20\n",
      "25216/60000 [===========>..................] - ETA: 7s - loss: 0.0126 - acc: 0.996160000/60000 [==============================] - 14s 241us/step - loss: 0.0131 - acc: 0.9956 - val_loss: 0.0827 - val_acc: 0.9791\n",
      "Epoch 15/20\n",
      "60000/60000 [==============================] - 15s 243us/step - loss: 0.0114 - acc: 0.9960 - val_loss: 0.0872 - val_acc: 0.9792\n",
      "Epoch 16/20\n",
      "25216/60000 [===========>..................] - ETA: 8s - loss: 0.0121 - acc: 0.996360000/60000 [==============================] - 15s 243us/step - loss: 0.0107 - acc: 0.9963 - val_loss: 0.0820 - val_acc: 0.9800\n",
      "Epoch 17/20\n",
      "60000/60000 [==============================] - 14s 241us/step - loss: 0.0102 - acc: 0.9968 - val_loss: 0.0863 - val_acc: 0.9786\n",
      "Epoch 18/20\n",
      "25216/60000 [===========>..................] - ETA: 7s - loss: 0.0116 - acc: 0.996160000/60000 [==============================] - 14s 240us/step - loss: 0.0128 - acc: 0.9957 - val_loss: 0.0751 - val_acc: 0.9791\n",
      "Epoch 19/20\n",
      "60000/60000 [==============================] - 14s 240us/step - loss: 0.0102 - acc: 0.9966 - val_loss: 0.0794 - val_acc: 0.9803\n",
      "Epoch 20/20\n",
      "25216/60000 [===========>..................] - ETA: 7s - loss: 0.0071 - acc: 0.997960000/60000 [==============================] - 14s 240us/step - loss: 0.0086 - acc: 0.9973 - val_loss: 0.0688 - val_acc: 0.9834\n"
     ]
    }
   ],
   "source": [
    "model_drop1.compile(optimizer='adam', loss='categorical_crossentropy', metrics=['accuracy'])\n",
    "\n",
    "history = model_drop1.fit(X_train, Y_train, batch_size=batch_size, epochs=nb_epoch, verbose=1, validation_data=(X_test, Y_test))"
   ]
  },
  {
   "cell_type": "code",
   "execution_count": 69,
   "metadata": {
    "colab": {
     "autoexec": {
      "startup": false,
      "wait_interval": 0
     },
     "base_uri": "https://localhost:8080/",
     "height": 314
    },
    "colab_type": "code",
    "executionInfo": {
     "elapsed": 3213,
     "status": "ok",
     "timestamp": 1530604237928,
     "user": {
      "displayName": "Dhruv Bhardwaj",
      "photoUrl": "https://lh3.googleusercontent.com/a/default-user=s128",
      "userId": "108346599235323909781"
     },
     "user_tz": -330
    },
    "id": "YyiGg45IGqns",
    "outputId": "1001dc95-de9a-48a2-c2f8-bc1ae84381f0"
   },
   "outputs": [
    {
     "name": "stdout",
     "output_type": "stream",
     "text": [
      "Test score: 0.06883215385827571\n",
      "Test accuracy: 0.9834\n"
     ]
    },
    {
     "data": {
      "image/png": "[encoded data removed]",
      "text/plain": [
       "<matplotlib.figure.Figure at 0x7f627b134eb8>"
      ]
     },
     "metadata": {
      "tags": []
     },
     "output_type": "display_data"
    }
   ],
   "source": [
    "score = model_drop1.evaluate(X_test, Y_test, verbose=0) \n",
    "print('Test score:', score[0]) \n",
    "print('Test accuracy:', score[1])\n",
    "\n",
    "fig,ax = plt.subplots(1,1)\n",
    "ax.set_xlabel('epoch') ; ax.set_ylabel('Categorical Crossentropy Loss')\n",
    "\n",
    "# list of epoch numbers\n",
    "x = list(range(1,nb_epoch+1))\n",
    "\n",
    "# print(history.history.keys())\n",
    "# dict_keys(['val_loss', 'val_acc', 'loss', 'acc'])\n",
    "# history = model_drop.fit(X_train, Y_train, batch_size=batch_size, epochs=nb_epoch, verbose=1, validation_data=(X_test, Y_test))\n",
    "\n",
    "# we will get val_loss and val_acc only when you pass the paramter validation_data\n",
    "# val_loss : validation loss\n",
    "# val_acc : validation accuracy\n",
    "\n",
    "# loss : training loss\n",
    "# acc : train accuracy\n",
    "# for each key in histrory.histrory we will have a list of length equal to number of epochs\n",
    "\n",
    "vy = history.history['val_loss']\n",
    "ty = history.history['loss']\n",
    "plt_dynamic(x, vy, ty, ax)"
   ]
  },
  {
   "cell_type": "markdown",
   "metadata": {
    "colab_type": "text",
    "id": "SmcvFBSxB1Ty"
   },
   "source": [
    "  <h3>MLP + ReLU + Adam + With Dropout and Batch Normalization</h3>"
   ]
  },
  {
   "cell_type": "code",
   "execution_count": 61,
   "metadata": {
    "colab": {
     "autoexec": {
      "startup": false,
      "wait_interval": 0
     },
     "base_uri": "https://localhost:8080/",
     "height": 382
    },
    "colab_type": "code",
    "executionInfo": {
     "elapsed": 1095,
     "status": "ok",
     "timestamp": 1530603370205,
     "user": {
      "displayName": "Dhruv Bhardwaj",
      "photoUrl": "https://lh3.googleusercontent.com/a/default-user=s128",
      "userId": "108346599235323909781"
     },
     "user_tz": -330
    },
    "id": "w-1oKToKEWLh",
    "outputId": "74bd90f4-fa01-4bd7-be4d-d86c31ef6bea"
   },
   "outputs": [
    {
     "name": "stdout",
     "output_type": "stream",
     "text": [
      "_________________________________________________________________\n",
      "Layer (type)                 Output Shape              Param #   \n",
      "=================================================================\n",
      "dense_39 (Dense)             (None, 364)               285740    \n",
      "_________________________________________________________________\n",
      "batch_normalization_19 (Batc (None, 364)               1456      \n",
      "_________________________________________________________________\n",
      "dropout_16 (Dropout)         (None, 364)               0         \n",
      "_________________________________________________________________\n",
      "dense_40 (Dense)             (None, 96)                35040     \n",
      "_________________________________________________________________\n",
      "batch_normalization_20 (Batc (None, 96)                384       \n",
      "_________________________________________________________________\n",
      "dropout_17 (Dropout)         (None, 96)                0         \n",
      "_________________________________________________________________\n",
      "dense_41 (Dense)             (None, 10)                970       \n",
      "=================================================================\n",
      "Total params: 323,590\n",
      "Trainable params: 322,670\n",
      "Non-trainable params: 920\n",
      "_________________________________________________________________\n"
     ]
    }
   ],
   "source": [
    "\n",
    "from keras.layers import Dropout\n",
    "from keras.layers.normalization import BatchNormalization\n",
    "\n",
    "model_drop = Sequential()\n",
    "\n",
    "model_drop.add(Dense(364, activation='relu', input_shape=(input_dim,), kernel_initializer=RandomNormal(mean=0.0, stddev=0.039, seed=None)))\n",
    "model_drop.add(BatchNormalization())\n",
    "model_drop.add(Dropout(0.5))\n",
    "\n",
    "model_drop.add(Dense(96, activation='relu', kernel_initializer=RandomNormal(mean=0.0, stddev=0.55, seed=None)) )\n",
    "model_drop.add(BatchNormalization())\n",
    "model_drop.add(Dropout(0.5))\n",
    "\n",
    "\n",
    "model_drop.add(Dense(output_dim, activation='softmax'))\n",
    "\n",
    "\n",
    "model_drop.summary()"
   ]
  },
  {
   "cell_type": "code",
   "execution_count": 62,
   "metadata": {
    "colab": {
     "autoexec": {
      "startup": false,
      "wait_interval": 0
     },
     "base_uri": "https://localhost:8080/",
     "height": 749
    },
    "colab_type": "code",
    "executionInfo": {
     "elapsed": 162933,
     "status": "ok",
     "timestamp": 1530603548907,
     "user": {
      "displayName": "Dhruv Bhardwaj",
      "photoUrl": "https://lh3.googleusercontent.com/a/default-user=s128",
      "userId": "108346599235323909781"
     },
     "user_tz": -330
    },
    "id": "cD_7Ek1eEXCe",
    "outputId": "31be2d6c-4ae5-426f-91ce-19885e4e0447"
   },
   "outputs": [
    {
     "name": "stdout",
     "output_type": "stream",
     "text": [
      "Train on 60000 samples, validate on 10000 samples\n",
      "Epoch 1/20\n",
      "60000/60000 [==============================] - 10s 168us/step - loss: 0.5561 - acc: 0.8331 - val_loss: 0.1834 - val_acc: 0.9424\n",
      "Epoch 2/20\n",
      "60000/60000 [==============================] - 8s 135us/step - loss: 0.2832 - acc: 0.9158 - val_loss: 0.1333 - val_acc: 0.9587\n",
      "Epoch 3/20\n",
      "48384/60000 [=======================>......] - ETA: 1s - loss: 0.2334 - acc: 0.929560000/60000 [==============================] - 8s 131us/step - loss: 0.2291 - acc: 0.9312 - val_loss: 0.1158 - val_acc: 0.9629\n",
      "Epoch 4/20\n",
      "60000/60000 [==============================] - 8s 134us/step - loss: 0.1973 - acc: 0.9414 - val_loss: 0.0979 - val_acc: 0.9693\n",
      "Epoch 5/20\n",
      "60000/60000 [==============================] - 8s 134us/step - loss: 0.1710 - acc: 0.9492 - val_loss: 0.0965 - val_acc: 0.9673\n",
      "Epoch 6/20\n",
      "21504/60000 [=========>....................] - ETA: 4s - loss: 0.1656 - acc: 0.949860000/60000 [==============================] - 8s 133us/step - loss: 0.1590 - acc: 0.9522 - val_loss: 0.0895 - val_acc: 0.9708\n",
      "Epoch 7/20\n",
      "60000/60000 [==============================] - 8s 132us/step - loss: 0.1505 - acc: 0.9557 - val_loss: 0.0846 - val_acc: 0.9741\n",
      "Epoch 8/20\n",
      "60000/60000 [==============================] - 8s 134us/step - loss: 0.1409 - acc: 0.9572 - val_loss: 0.0832 - val_acc: 0.9741\n",
      "Epoch 9/20\n",
      "18048/60000 [========>.....................] - ETA: 5s - loss: 0.1414 - acc: 0.958460000/60000 [==============================] - 8s 133us/step - loss: 0.1352 - acc: 0.9596 - val_loss: 0.0782 - val_acc: 0.9753\n",
      "Epoch 10/20\n",
      "60000/60000 [==============================] - 8s 132us/step - loss: 0.1262 - acc: 0.9614 - val_loss: 0.0756 - val_acc: 0.9753\n",
      "Epoch 11/20\n",
      "60000/60000 [==============================] - 8s 132us/step - loss: 0.1183 - acc: 0.9640 - val_loss: 0.0763 - val_acc: 0.9759\n",
      "Epoch 12/20\n",
      "18176/60000 [========>.....................] - ETA: 5s - loss: 0.1159 - acc: 0.965060000/60000 [==============================] - 8s 135us/step - loss: 0.1122 - acc: 0.9663 - val_loss: 0.0762 - val_acc: 0.9765\n",
      "Epoch 13/20\n",
      "60000/60000 [==============================] - 8s 132us/step - loss: 0.1107 - acc: 0.9662 - val_loss: 0.0715 - val_acc: 0.9773\n",
      "Epoch 14/20\n",
      "60000/60000 [==============================] - 8s 131us/step - loss: 0.1018 - acc: 0.9689 - val_loss: 0.0720 - val_acc: 0.9775\n",
      "Epoch 15/20\n",
      "19456/60000 [========>.....................] - ETA: 5s - loss: 0.0971 - acc: 0.970760000/60000 [==============================] - 8s 131us/step - loss: 0.0977 - acc: 0.9698 - val_loss: 0.0719 - val_acc: 0.9778\n",
      "Epoch 16/20\n",
      "60000/60000 [==============================] - 8s 131us/step - loss: 0.0946 - acc: 0.9705 - val_loss: 0.0691 - val_acc: 0.9798\n",
      "Epoch 17/20\n",
      "60000/60000 [==============================] - 8s 131us/step - loss: 0.0918 - acc: 0.9715 - val_loss: 0.0677 - val_acc: 0.9807\n",
      "Epoch 18/20\n",
      "19328/60000 [========>.....................] - ETA: 5s - loss: 0.0795 - acc: 0.975160000/60000 [==============================] - 8s 130us/step - loss: 0.0864 - acc: 0.9730 - val_loss: 0.0686 - val_acc: 0.9802\n",
      "Epoch 19/20\n",
      "60000/60000 [==============================] - 8s 131us/step - loss: 0.0846 - acc: 0.9734 - val_loss: 0.0646 - val_acc: 0.9800\n",
      "Epoch 20/20\n",
      "60000/60000 [==============================] - 8s 134us/step - loss: 0.0841 - acc: 0.9740 - val_loss: 0.0693 - val_acc: 0.9801\n"
     ]
    }
   ],
   "source": [
    "model_drop.compile(optimizer='adam', loss='categorical_crossentropy', metrics=['accuracy'])\n",
    "\n",
    "history = model_drop.fit(X_train, Y_train, batch_size=batch_size, epochs=nb_epoch, verbose=1, validation_data=(X_test, Y_test))"
   ]
  },
  {
   "cell_type": "code",
   "execution_count": 63,
   "metadata": {
    "colab": {
     "autoexec": {
      "startup": false,
      "wait_interval": 0
     },
     "base_uri": "https://localhost:8080/",
     "height": 314
    },
    "colab_type": "code",
    "executionInfo": {
     "elapsed": 2644,
     "status": "ok",
     "timestamp": 1530603566704,
     "user": {
      "displayName": "Dhruv Bhardwaj",
      "photoUrl": "https://lh3.googleusercontent.com/a/default-user=s128",
      "userId": "108346599235323909781"
     },
     "user_tz": -330
    },
    "id": "1O6GdCL0EXsd",
    "outputId": "221fe639-b459-4996-9f81-e70c32191712"
   },
   "outputs": [
    {
     "name": "stdout",
     "output_type": "stream",
     "text": [
      "Test score: 0.06931823280235985\n",
      "Test accuracy: 0.9801\n"
     ]
    },
    {
     "data": {
      "image/png": "[encoded data removed]",
      "text/plain": [
       "<matplotlib.figure.Figure at 0x7f627b7d3320>"
      ]
     },
     "metadata": {
      "tags": []
     },
     "output_type": "display_data"
    }
   ],
   "source": [
    "score = model_drop.evaluate(X_test, Y_test, verbose=0) \n",
    "print('Test score:', score[0]) \n",
    "print('Test accuracy:', score[1])\n",
    "\n",
    "fig,ax = plt.subplots(1,1)\n",
    "ax.set_xlabel('epoch') ; ax.set_ylabel('Categorical Crossentropy Loss')\n",
    "\n",
    "# list of epoch numbers\n",
    "x = list(range(1,nb_epoch+1))\n",
    "\n",
    "# print(history.history.keys())\n",
    "# dict_keys(['val_loss', 'val_acc', 'loss', 'acc'])\n",
    "# history = model_drop.fit(X_train, Y_train, batch_size=batch_size, epochs=nb_epoch, verbose=1, validation_data=(X_test, Y_test))\n",
    "\n",
    "# we will get val_loss and val_acc only when you pass the paramter validation_data\n",
    "# val_loss : validation loss\n",
    "# val_acc : validation accuracy\n",
    "\n",
    "# loss : training loss\n",
    "# acc : train accuracy\n",
    "# for each key in histrory.histrory we will have a list of length equal to number of epochs\n",
    "\n",
    "vy = history.history['val_loss']\n",
    "ty = history.history['loss']\n",
    "plt_dynamic(x, vy, ty, ax)"
   ]
  },
  {
   "cell_type": "code",
   "execution_count": 51,
   "metadata": {
    "colab": {
     "autoexec": {
      "startup": false,
      "wait_interval": 0
     },
     "base_uri": "https://localhost:8080/",
     "height": 486
    },
    "colab_type": "code",
    "executionInfo": {
     "elapsed": 1605,
     "status": "ok",
     "timestamp": 1530601146647,
     "user": {
      "displayName": "Dhruv Bhardwaj",
      "photoUrl": "https://lh3.googleusercontent.com/a/default-user=s128",
      "userId": "108346599235323909781"
     },
     "user_tz": -330
    },
    "id": "KzzwA-yF7vkh",
    "outputId": "e59baea4-4a95-48b7-ddcd-14f20839dc9f"
   },
   "outputs": [
    {
     "name": "stdout",
     "output_type": "stream",
     "text": [
      "_________________________________________________________________\n",
      "Layer (type)                 Output Shape              Param #   \n",
      "=================================================================\n",
      "dense_19 (Dense)             (None, 364)               285740    \n",
      "_________________________________________________________________\n",
      "batch_normalization_3 (Batch (None, 364)               1456      \n",
      "_________________________________________________________________\n",
      "dropout_3 (Dropout)          (None, 364)               0         \n",
      "_________________________________________________________________\n",
      "dense_20 (Dense)             (None, 96)                35040     \n",
      "_________________________________________________________________\n",
      "batch_normalization_4 (Batch (None, 96)                384       \n",
      "_________________________________________________________________\n",
      "dropout_4 (Dropout)          (None, 96)                0         \n",
      "_________________________________________________________________\n",
      "dense_21 (Dense)             (None, 36)                3492      \n",
      "_________________________________________________________________\n",
      "batch_normalization_5 (Batch (None, 36)                144       \n",
      "_________________________________________________________________\n",
      "dropout_5 (Dropout)          (None, 36)                0         \n",
      "_________________________________________________________________\n",
      "dense_22 (Dense)             (None, 10)                370       \n",
      "=================================================================\n",
      "Total params: 326,626\n",
      "Trainable params: 325,634\n",
      "Non-trainable params: 992\n",
      "_________________________________________________________________\n"
     ]
    }
   ],
   "source": [
    "\n",
    "from keras.layers import Dropout\n",
    "from keras.layers.normalization import BatchNormalization\n",
    "\n",
    "model_drop = Sequential()\n",
    "\n",
    "model_drop.add(Dense(364, activation='relu', input_shape=(input_dim,), kernel_initializer=RandomNormal(mean=0.0, stddev=0.039, seed=None)))\n",
    "model_drop.add(BatchNormalization())\n",
    "model_drop.add(Dropout(0.5))\n",
    "\n",
    "model_drop.add(Dense(96, activation='relu', kernel_initializer=RandomNormal(mean=0.0, stddev=0.55, seed=None)) )\n",
    "model_drop.add(BatchNormalization())\n",
    "model_drop.add(Dropout(0.5))\n",
    "\n",
    "model_drop.add(Dense(36, activation='relu', kernel_initializer=RandomNormal(mean=0.0, stddev=0.55, seed=None)) )\n",
    "model_drop.add(BatchNormalization())\n",
    "model_drop.add(Dropout(0.5))\n",
    "\n",
    "model_drop.add(Dense(output_dim, activation='softmax'))\n",
    "\n",
    "\n",
    "model_drop.summary()"
   ]
  },
  {
   "cell_type": "code",
   "execution_count": 52,
   "metadata": {
    "colab": {
     "autoexec": {
      "startup": false,
      "wait_interval": 0
     },
     "base_uri": "https://localhost:8080/",
     "height": 749
    },
    "colab_type": "code",
    "executionInfo": {
     "elapsed": 173041,
     "status": "ok",
     "timestamp": 1530601375916,
     "user": {
      "displayName": "Dhruv Bhardwaj",
      "photoUrl": "https://lh3.googleusercontent.com/a/default-user=s128",
      "userId": "108346599235323909781"
     },
     "user_tz": -330
    },
    "id": "XbSmMQEG8DQQ",
    "outputId": "362e6c76-7146-4c69-d07b-7fad4ed31fb0"
   },
   "outputs": [
    {
     "name": "stdout",
     "output_type": "stream",
     "text": [
      "Train on 60000 samples, validate on 10000 samples\n",
      "Epoch 1/20\n",
      "60000/60000 [==============================] - 10s 169us/step - loss: 1.0813 - acc: 0.6553 - val_loss: 0.2706 - val_acc: 0.9254\n",
      "Epoch 2/20\n",
      "60000/60000 [==============================] - 8s 141us/step - loss: 0.5282 - acc: 0.8445 - val_loss: 0.1970 - val_acc: 0.9434\n",
      "Epoch 3/20\n",
      "35584/60000 [================>.............] - ETA: 3s - loss: 0.4240 - acc: 0.879160000/60000 [==============================] - 8s 140us/step - loss: 0.4093 - acc: 0.8844 - val_loss: 0.1543 - val_acc: 0.9527\n",
      "Epoch 4/20\n",
      "60000/60000 [==============================] - 8s 140us/step - loss: 0.3363 - acc: 0.9064 - val_loss: 0.1394 - val_acc: 0.9581\n",
      "Epoch 5/20\n",
      "60000/60000 [==============================] - 8s 140us/step - loss: 0.2970 - acc: 0.9188 - val_loss: 0.1301 - val_acc: 0.9614\n",
      "Epoch 6/20\n",
      " 8448/60000 [===>..........................] - ETA: 6s - loss: 0.2733 - acc: 0.922860000/60000 [==============================] - 8s 140us/step - loss: 0.2673 - acc: 0.9266 - val_loss: 0.1260 - val_acc: 0.9649\n",
      "Epoch 7/20\n",
      "60000/60000 [==============================] - 8s 139us/step - loss: 0.2465 - acc: 0.9332 - val_loss: 0.1071 - val_acc: 0.9691\n",
      "Epoch 8/20\n",
      "60000/60000 [==============================] - 8s 139us/step - loss: 0.2198 - acc: 0.9418 - val_loss: 0.1017 - val_acc: 0.9718\n",
      "Epoch 9/20\n",
      " 4224/60000 [=>............................] - ETA: 7s - loss: 0.2097 - acc: 0.942960000/60000 [==============================] - 8s 141us/step - loss: 0.2127 - acc: 0.9441 - val_loss: 0.1052 - val_acc: 0.9695\n",
      "Epoch 10/20\n",
      "60000/60000 [==============================] - 9s 142us/step - loss: 0.1945 - acc: 0.9479 - val_loss: 0.0965 - val_acc: 0.9717\n",
      "Epoch 11/20\n",
      "59648/60000 [============================>.] - ETA: 0s - loss: 0.1864 - acc: 0.950360000/60000 [==============================] - 8s 141us/step - loss: 0.1865 - acc: 0.9504 - val_loss: 0.0993 - val_acc: 0.9728\n",
      "Epoch 12/20\n",
      "60000/60000 [==============================] - 8s 142us/step - loss: 0.1817 - acc: 0.9521 - val_loss: 0.0932 - val_acc: 0.9732\n",
      "Epoch 13/20\n",
      "60000/60000 [==============================] - 8s 141us/step - loss: 0.1734 - acc: 0.9546 - val_loss: 0.0945 - val_acc: 0.9749\n",
      "Epoch 14/20\n",
      " 9344/60000 [===>..........................] - ETA: 6s - loss: 0.1747 - acc: 0.953060000/60000 [==============================] - 9s 143us/step - loss: 0.1624 - acc: 0.9569 - val_loss: 0.0925 - val_acc: 0.9756\n",
      "Epoch 15/20\n",
      "60000/60000 [==============================] - 8s 140us/step - loss: 0.1585 - acc: 0.9585 - val_loss: 0.0865 - val_acc: 0.9776\n",
      "Epoch 16/20\n",
      "60000/60000 [==============================] - 8s 141us/step - loss: 0.1564 - acc: 0.9581 - val_loss: 0.0848 - val_acc: 0.9768\n",
      "Epoch 17/20\n",
      " 2560/60000 [>.............................] - ETA: 8s - loss: 0.1657 - acc: 0.957860000/60000 [==============================] - 9s 142us/step - loss: 0.1467 - acc: 0.9615 - val_loss: 0.0840 - val_acc: 0.9773\n",
      "Epoch 18/20\n",
      "60000/60000 [==============================] - 8s 141us/step - loss: 0.1461 - acc: 0.9621 - val_loss: 0.0838 - val_acc: 0.9773\n",
      "Epoch 19/20\n",
      "60000/60000 [==============================] - 8s 140us/step - loss: 0.1356 - acc: 0.9633 - val_loss: 0.0798 - val_acc: 0.9786\n",
      "Epoch 20/20\n",
      "  896/60000 [..............................] - ETA: 8s - loss: 0.1553 - acc: 0.959860000/60000 [==============================] - 8s 140us/step - loss: 0.1302 - acc: 0.9652 - val_loss: 0.0812 - val_acc: 0.9795\n"
     ]
    }
   ],
   "source": [
    "model_drop.compile(optimizer='adam', loss='categorical_crossentropy', metrics=['accuracy'])\n",
    "\n",
    "history = model_drop.fit(X_train, Y_train, batch_size=batch_size, epochs=nb_epoch, verbose=1, validation_data=(X_test, Y_test))"
   ]
  },
  {
   "cell_type": "code",
   "execution_count": 53,
   "metadata": {
    "colab": {
     "autoexec": {
      "startup": false,
      "wait_interval": 0
     },
     "base_uri": "https://localhost:8080/",
     "height": 314
    },
    "colab_type": "code",
    "executionInfo": {
     "elapsed": 1828,
     "status": "ok",
     "timestamp": 1530601440447,
     "user": {
      "displayName": "Dhruv Bhardwaj",
      "photoUrl": "https://lh3.googleusercontent.com/a/default-user=s128",
      "userId": "108346599235323909781"
     },
     "user_tz": -330
    },
    "id": "x9RCKOdt9CNx",
    "outputId": "154c112d-4f04-4be1-cc5a-5b67c38ab088"
   },
   "outputs": [
    {
     "name": "stdout",
     "output_type": "stream",
     "text": [
      "Test score: 0.08116542890121928\n",
      "Test accuracy: 0.9795\n"
     ]
    },
    {
     "data": {
      "image/png": "[encoded data removed]",
      "text/plain": [
       "<matplotlib.figure.Figure at 0x7f62812de5c0>"
      ]
     },
     "metadata": {
      "tags": []
     },
     "output_type": "display_data"
    }
   ],
   "source": [
    "score = model_drop.evaluate(X_test, Y_test, verbose=0) \n",
    "print('Test score:', score[0]) \n",
    "print('Test accuracy:', score[1])\n",
    "\n",
    "fig,ax = plt.subplots(1,1)\n",
    "ax.set_xlabel('epoch') ; ax.set_ylabel('Categorical Crossentropy Loss')\n",
    "\n",
    "# list of epoch numbers\n",
    "x = list(range(1,nb_epoch+1))\n",
    "\n",
    "# print(history.history.keys())\n",
    "# dict_keys(['val_loss', 'val_acc', 'loss', 'acc'])\n",
    "# history = model_drop.fit(X_train, Y_train, batch_size=batch_size, epochs=nb_epoch, verbose=1, validation_data=(X_test, Y_test))\n",
    "\n",
    "# we will get val_loss and val_acc only when you pass the paramter validation_data\n",
    "# val_loss : validation loss\n",
    "# val_acc : validation accuracy\n",
    "\n",
    "# loss : training loss\n",
    "# acc : train accuracy\n",
    "# for each key in histrory.histrory we will have a list of length equal to number of epochs\n",
    "\n",
    "vy = history.history['val_loss']\n",
    "ty = history.history['loss']\n",
    "plt_dynamic(x, vy, ty, ax)"
   ]
  },
  {
   "cell_type": "code",
   "execution_count": 55,
   "metadata": {
    "colab": {
     "autoexec": {
      "startup": false,
      "wait_interval": 0
     },
     "base_uri": "https://localhost:8080/",
     "height": 694
    },
    "colab_type": "code",
    "executionInfo": {
     "elapsed": 1338,
     "status": "ok",
     "timestamp": 1530601582297,
     "user": {
      "displayName": "Dhruv Bhardwaj",
      "photoUrl": "https://lh3.googleusercontent.com/a/default-user=s128",
      "userId": "108346599235323909781"
     },
     "user_tz": -330
    },
    "id": "Ni-TTzX29KsW",
    "outputId": "f8981bd1-3531-4c0d-a953-af9fc5c87aa8"
   },
   "outputs": [
    {
     "name": "stdout",
     "output_type": "stream",
     "text": [
      "_________________________________________________________________\n",
      "Layer (type)                 Output Shape              Param #   \n",
      "=================================================================\n",
      "dense_29 (Dense)             (None, 512)               401920    \n",
      "_________________________________________________________________\n",
      "batch_normalization_11 (Batc (None, 512)               2048      \n",
      "_________________________________________________________________\n",
      "dropout_11 (Dropout)         (None, 512)               0         \n",
      "_________________________________________________________________\n",
      "dense_30 (Dense)             (None, 326)               167238    \n",
      "_________________________________________________________________\n",
      "batch_normalization_12 (Batc (None, 326)               1304      \n",
      "_________________________________________________________________\n",
      "dropout_12 (Dropout)         (None, 326)               0         \n",
      "_________________________________________________________________\n",
      "dense_31 (Dense)             (None, 196)               64092     \n",
      "_________________________________________________________________\n",
      "batch_normalization_13 (Batc (None, 196)               784       \n",
      "_________________________________________________________________\n",
      "dropout_13 (Dropout)         (None, 196)               0         \n",
      "_________________________________________________________________\n",
      "dense_32 (Dense)             (None, 96)                18912     \n",
      "_________________________________________________________________\n",
      "batch_normalization_14 (Batc (None, 96)                384       \n",
      "_________________________________________________________________\n",
      "dropout_14 (Dropout)         (None, 96)                0         \n",
      "_________________________________________________________________\n",
      "dense_33 (Dense)             (None, 36)                3492      \n",
      "_________________________________________________________________\n",
      "batch_normalization_15 (Batc (None, 36)                144       \n",
      "_________________________________________________________________\n",
      "dropout_15 (Dropout)         (None, 36)                0         \n",
      "_________________________________________________________________\n",
      "dense_34 (Dense)             (None, 10)                370       \n",
      "=================================================================\n",
      "Total params: 660,688\n",
      "Trainable params: 658,356\n",
      "Non-trainable params: 2,332\n",
      "_________________________________________________________________\n"
     ]
    }
   ],
   "source": [
    "\n",
    "from keras.layers import Dropout\n",
    "from keras.layers.normalization import BatchNormalization\n",
    "\n",
    "model_drop1 = Sequential()\n",
    "\n",
    "model_drop1.add(Dense(512, activation='relu', input_shape=(input_dim,), kernel_initializer=RandomNormal(mean=0.0, stddev=0.039, seed=None)))\n",
    "model_drop1.add(BatchNormalization())\n",
    "model_drop1.add(Dropout(0.5))\n",
    "\n",
    "model_drop1.add(Dense(326, activation='relu', kernel_initializer=RandomNormal(mean=0.0, stddev=0.55, seed=None)) )\n",
    "model_drop1.add(BatchNormalization())\n",
    "model_drop1.add(Dropout(0.5))\n",
    "\n",
    "model_drop1.add(Dense(196, activation='relu', kernel_initializer=RandomNormal(mean=0.0, stddev=0.55, seed=None)) )\n",
    "model_drop1.add(BatchNormalization())\n",
    "model_drop1.add(Dropout(0.5))\n",
    "\n",
    "model_drop1.add(Dense(96, activation='relu', kernel_initializer=RandomNormal(mean=0.0, stddev=0.55, seed=None)) )\n",
    "model_drop1.add(BatchNormalization())\n",
    "model_drop1.add(Dropout(0.5))\n",
    "\n",
    "model_drop1.add(Dense(36, activation='relu', kernel_initializer=RandomNormal(mean=0.0, stddev=0.55, seed=None)) )\n",
    "model_drop1.add(BatchNormalization())\n",
    "model_drop1.add(Dropout(0.5))\n",
    "\n",
    "model_drop1.add(Dense(output_dim, activation='softmax'))\n",
    "\n",
    "\n",
    "model_drop1.summary()"
   ]
  },
  {
   "cell_type": "code",
   "execution_count": 56,
   "metadata": {
    "colab": {
     "autoexec": {
      "startup": false,
      "wait_interval": 0
     },
     "base_uri": "https://localhost:8080/",
     "height": 749
    },
    "colab_type": "code",
    "executionInfo": {
     "elapsed": 312279,
     "status": "ok",
     "timestamp": 1530601951519,
     "user": {
      "displayName": "Dhruv Bhardwaj",
      "photoUrl": "https://lh3.googleusercontent.com/a/default-user=s128",
      "userId": "108346599235323909781"
     },
     "user_tz": -330
    },
    "id": "zD1vGzAn9tMy",
    "outputId": "d16d2f89-dff5-4772-8479-cd3b0f6ca159"
   },
   "outputs": [
    {
     "name": "stdout",
     "output_type": "stream",
     "text": [
      "Train on 60000 samples, validate on 10000 samples\n",
      "Epoch 1/20\n",
      "60000/60000 [==============================] - 18s 299us/step - loss: 1.8565 - acc: 0.3800 - val_loss: 0.6879 - val_acc: 0.7896\n",
      "Epoch 2/20\n",
      "58752/60000 [============================>.] - ETA: 0s - loss: 0.9271 - acc: 0.693460000/60000 [==============================] - 15s 256us/step - loss: 0.9225 - acc: 0.6948 - val_loss: 0.3604 - val_acc: 0.9047\n",
      "Epoch 3/20\n",
      "60000/60000 [==============================] - 15s 257us/step - loss: 0.6260 - acc: 0.8078 - val_loss: 0.2393 - val_acc: 0.9329\n",
      "Epoch 4/20\n",
      "32896/60000 [===============>..............] - ETA: 6s - loss: 0.5032 - acc: 0.852860000/60000 [==============================] - 15s 258us/step - loss: 0.4841 - acc: 0.8602 - val_loss: 0.1947 - val_acc: 0.9448\n",
      "Epoch 5/20\n",
      "60000/60000 [==============================] - 15s 254us/step - loss: 0.4011 - acc: 0.8898 - val_loss: 0.1668 - val_acc: 0.9530\n",
      "Epoch 6/20\n",
      "27264/60000 [============>.................] - ETA: 8s - loss: 0.3524 - acc: 0.904560000/60000 [==============================] - 16s 259us/step - loss: 0.3476 - acc: 0.9065 - val_loss: 0.1534 - val_acc: 0.9581\n",
      "Epoch 7/20\n",
      "60000/60000 [==============================] - 15s 256us/step - loss: 0.3102 - acc: 0.9185 - val_loss: 0.1407 - val_acc: 0.9620\n",
      "Epoch 8/20\n",
      "25984/60000 [===========>..................] - ETA: 8s - loss: 0.2905 - acc: 0.925560000/60000 [==============================] - 15s 256us/step - loss: 0.2850 - acc: 0.9272 - val_loss: 0.1313 - val_acc: 0.9649\n",
      "Epoch 9/20\n",
      "60000/60000 [==============================] - 15s 255us/step - loss: 0.2687 - acc: 0.9326 - val_loss: 0.1207 - val_acc: 0.9676\n",
      "Epoch 10/20\n",
      "25472/60000 [===========>..................] - ETA: 8s - loss: 0.2470 - acc: 0.938060000/60000 [==============================] - 15s 256us/step - loss: 0.2476 - acc: 0.9386 - val_loss: 0.1149 - val_acc: 0.9700\n",
      "Epoch 11/20\n",
      "60000/60000 [==============================] - 15s 256us/step - loss: 0.2303 - acc: 0.9427 - val_loss: 0.1075 - val_acc: 0.9724\n",
      "Epoch 12/20\n",
      "24960/60000 [===========>..................] - ETA: 8s - loss: 0.2201 - acc: 0.946760000/60000 [==============================] - 15s 257us/step - loss: 0.2176 - acc: 0.9460 - val_loss: 0.1069 - val_acc: 0.9723\n",
      "Epoch 13/20\n",
      "60000/60000 [==============================] - 15s 255us/step - loss: 0.2075 - acc: 0.9495 - val_loss: 0.1111 - val_acc: 0.9730\n",
      "Epoch 14/20\n",
      "24960/60000 [===========>..................] - ETA: 8s - loss: 0.1964 - acc: 0.951560000/60000 [==============================] - 15s 254us/step - loss: 0.1915 - acc: 0.9527 - val_loss: 0.1069 - val_acc: 0.9729\n",
      "Epoch 15/20\n",
      "60000/60000 [==============================] - 15s 254us/step - loss: 0.1849 - acc: 0.9547 - val_loss: 0.0992 - val_acc: 0.9760\n",
      "Epoch 16/20\n",
      "24960/60000 [===========>..................] - ETA: 8s - loss: 0.1715 - acc: 0.958160000/60000 [==============================] - 15s 255us/step - loss: 0.1771 - acc: 0.9568 - val_loss: 0.0917 - val_acc: 0.9779\n",
      "Epoch 17/20\n",
      "60000/60000 [==============================] - 15s 255us/step - loss: 0.1734 - acc: 0.9581 - val_loss: 0.0918 - val_acc: 0.9764\n",
      "Epoch 18/20\n",
      "24960/60000 [===========>..................] - ETA: 8s - loss: 0.1650 - acc: 0.960460000/60000 [==============================] - 15s 254us/step - loss: 0.1673 - acc: 0.9595 - val_loss: 0.0898 - val_acc: 0.9778\n",
      "Epoch 19/20\n",
      "60000/60000 [==============================] - 15s 255us/step - loss: 0.1593 - acc: 0.9616 - val_loss: 0.0962 - val_acc: 0.9760\n",
      "Epoch 20/20\n",
      "24960/60000 [===========>..................] - ETA: 8s - loss: 0.1582 - acc: 0.962960000/60000 [==============================] - 15s 256us/step - loss: 0.1588 - acc: 0.9626 - val_loss: 0.0881 - val_acc: 0.9788\n"
     ]
    }
   ],
   "source": [
    "model_drop1.compile(optimizer='adam', loss='categorical_crossentropy', metrics=['accuracy'])\n",
    "\n",
    "history = model_drop1.fit(X_train, Y_train, batch_size=batch_size, epochs=nb_epoch, verbose=1, validation_data=(X_test, Y_test))"
   ]
  },
  {
   "cell_type": "code",
   "execution_count": 57,
   "metadata": {
    "colab": {
     "autoexec": {
      "startup": false,
      "wait_interval": 0
     },
     "base_uri": "https://localhost:8080/",
     "height": 314
    },
    "colab_type": "code",
    "executionInfo": {
     "elapsed": 2224,
     "status": "ok",
     "timestamp": 1530602141447,
     "user": {
      "displayName": "Dhruv Bhardwaj",
      "photoUrl": "https://lh3.googleusercontent.com/a/default-user=s128",
      "userId": "108346599235323909781"
     },
     "user_tz": -330
    },
    "id": "lfmanONM_ePy",
    "outputId": "50e6142c-9d16-46dd-b721-00c30d231962"
   },
   "outputs": [
    {
     "name": "stdout",
     "output_type": "stream",
     "text": [
      "Test score: 0.08810921824942343\n",
      "Test accuracy: 0.9788\n"
     ]
    },
    {
     "data": {
      "image/png": "[encoded data removed]",
      "text/plain": [
       "<matplotlib.figure.Figure at 0x7f627ea40d30>"
      ]
     },
     "metadata": {
      "tags": []
     },
     "output_type": "display_data"
    }
   ],
   "source": [
    "score = model_drop1.evaluate(X_test, Y_test, verbose=0) \n",
    "print('Test score:', score[0]) \n",
    "print('Test accuracy:', score[1])\n",
    "\n",
    "fig,ax = plt.subplots(1,1)\n",
    "ax.set_xlabel('epoch') ; ax.set_ylabel('Categorical Crossentropy Loss')\n",
    "\n",
    "# list of epoch numbers\n",
    "x = list(range(1,nb_epoch+1))\n",
    "\n",
    "# print(history.history.keys())\n",
    "# dict_keys(['val_loss', 'val_acc', 'loss', 'acc'])\n",
    "# history = model_drop.fit(X_train, Y_train, batch_size=batch_size, epochs=nb_epoch, verbose=1, validation_data=(X_test, Y_test))\n",
    "\n",
    "# we will get val_loss and val_acc only when you pass the paramter validation_data\n",
    "# val_loss : validation loss\n",
    "# val_acc : validation accuracy\n",
    "\n",
    "# loss : training loss\n",
    "# acc : train accuracy\n",
    "# for each key in histrory.histrory we will have a list of length equal to number of epochs\n",
    "\n",
    "vy = history.history['val_loss']\n",
    "ty = history.history['loss']\n",
    "plt_dynamic(x, vy, ty, ax)"
   ]
  },
  {
   "cell_type": "markdown",
   "metadata": {
    "colab_type": "text",
    "id": "UDFWGH6-Opwo"
   },
   "source": [
    "Summary:\n",
    "                     **We applied ReLU as activation function and Adam optimizer with Batch Normlization, Drop-out and without Dropout and Batch Normalization on 2, 3 and 5 hidden layer architecture on MNIST dataset and plotted theTrain and Test Loss and found out accuracy for each Model.**"
   ]
  },
  {
   "cell_type": "code",
   "execution_count": 106,
   "metadata": {
    "colab": {
     "autoexec": {
      "startup": false,
      "wait_interval": 0
     },
     "base_uri": "https://localhost:8080/",
     "height": 434
    },
    "colab_type": "code",
    "executionInfo": {
     "elapsed": 1255,
     "status": "ok",
     "timestamp": 1530608619891,
     "user": {
      "displayName": "Dhruv Bhardwaj",
      "photoUrl": "https://lh3.googleusercontent.com/a/default-user=s128",
      "userId": "108346599235323909781"
     },
     "user_tz": -330
    },
    "id": "wBplXSAHP08A",
    "outputId": "6fddd981-5223-4ce4-c1b6-6c210c456b69"
   },
   "outputs": [
    {
     "name": "stdout",
     "output_type": "stream",
     "text": [
      "\n",
      "\u001b[1mAccuracy on 2, 3, 5 MLP hidden layer architecture \u001b[0;0m\n",
      "+-------------------------------+------------+-------------+----------------------------------+\n",
      "|                               |   \u001b[1mAccuracy |   Test Loss | layer-architecture\u001b[0;0m               |\n",
      "+===============================+============+=============+==================================+\n",
      "| \u001b[1m2-Layer\u001b[0;0m                       |     0.979  |      0.117  | [784, 364, 96, 10]               |\n",
      "+-------------------------------+------------+-------------+----------------------------------+\n",
      "| 3-Layer                       |     0.976  |      0.141  | [784, 364, 96, 36, 10]           |\n",
      "+-------------------------------+------------+-------------+----------------------------------+\n",
      "| \u001b[1m5-Layer\u001b[0;0m                       |     0.1757 |     13.28   | [784, 512, 326, 196, 96, 36, 10] |\n",
      "+-------------------------------+------------+-------------+----------------------------------+\n",
      "| 2-Layer(BatchNormalz)         |     0.978  |      0.089  | [784, 364, 96, 10]               |\n",
      "+-------------------------------+------------+-------------+----------------------------------+\n",
      "| \u001b[1m3-Layer(BatchNormalz)\u001b[0;0m         |     0.979  |      0.09   | [784, 364, 96, 36, 10]           |\n",
      "+-------------------------------+------------+-------------+----------------------------------+\n",
      "| 5-Layer(BatchNormalz)         |     0.9834 |      0.0688 | [784, 512, 326, 196, 96, 36, 10] |\n",
      "+-------------------------------+------------+-------------+----------------------------------+\n",
      "| \u001b[1m2-Layer(BatchNormalz+Dropout)\u001b[0;0m |     0.9801 |      0.069  | [784, 364, 96, 10]               |\n",
      "+-------------------------------+------------+-------------+----------------------------------+\n",
      "| 3-Layer(BatchNormalz+Dropout) |     0.979  |      0.0811 | [784, 364, 96, 36, 10]           |\n",
      "+-------------------------------+------------+-------------+----------------------------------+\n",
      "| \u001b[1m5-Layer(BatchNormalz+Dropout)\u001b[0;0m |     0.9788 |      0.088  | [784, 512, 326, 196, 96, 36, 10] |\n",
      "+-------------------------------+------------+-------------+----------------------------------+\n",
      "-----------------------------------------------\n"
     ]
    }
   ],
   "source": [
    "from tabulate import tabulate\n",
    "import operator\n",
    "import collections\n",
    "import itertools\n",
    "\n",
    "table = []\n",
    "\n",
    "bold = \"\\033[1m\"\n",
    "reset = \"\\033[0;0m\"\n",
    "\n",
    "print()\n",
    "print(bold+\"Accuracy on 2, 3, 5 MLP hidden layer architecture \"+reset)\n",
    "table.append([bold+\"2-Layer\"+reset, 0.979, 0.117, [784,364,96,10]])\n",
    "table.append([\"3-Layer\", 0.976, 0.141, [784,364,96,36,10]])\n",
    "table.append([bold+\"5-Layer\"+reset, 0.1757, 13.28, [784,512,326,196,96,36,10]])\n",
    "table.append([\"2-Layer(BatchNormalz)\", 0.978, 0.089, [784,364,96,10]])\n",
    "table.append([bold+\"3-Layer(BatchNormalz)\"+reset, 0.979, 0.090, [784,364,96,36,10]])\n",
    "table.append([\"5-Layer(BatchNormalz)\", 0.9834, 0.0688, [784,512,326,196,96,36,10]])\n",
    "table.append([bold+\"2-Layer(BatchNormalz+Dropout)\"+reset, 0.9801, 0.069, [784,364,96,10]])\n",
    "table.append([\"3-Layer(BatchNormalz+Dropout)\", 0.979, 0.0811, [784,364,96,36,10]])\n",
    "table.append([bold+\"5-Layer(BatchNormalz+Dropout)\"+reset, 0.9788, 0.088, [784,512,326,196,96,36,10]])\n",
    "print(tabulate(table, headers=[bold+'Accuracy','Test Loss','layer-architecture'+reset], tablefmt='grid'))\n",
    "print(\"-----------------------------------------------\")\n",
    "table.clear()"
   ]
  }
 ],
 "metadata": {
  "colab": {
   "collapsed_sections": [],
   "default_view": {},
   "name": "Keras_Mnist.ipynb",
   "provenance": [],
   "version": "0.3.2",
   "views": {}
  },
  "kernelspec": {
   "display_name": "Python 3",
   "language": "python",
   "name": "python3"
  },
  "language_info": {
   "codemirror_mode": {
    "name": "ipython",
    "version": 3
   },
   "file_extension": ".py",
   "mimetype": "text/x-python",
   "name": "python",
   "nbconvert_exporter": "python",
   "pygments_lexer": "ipython3",
   "version": "3.6.4"
  }
 },
 "nbformat": 4,
 "nbformat_minor": 1
}
